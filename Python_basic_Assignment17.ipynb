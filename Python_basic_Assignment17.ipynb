{
  "nbformat": 4,
  "nbformat_minor": 0,
  "metadata": {
    "colab": {
      "name": "Python_basic_Assignment17.ipynb",
      "provenance": [],
      "collapsed_sections": []
    },
    "kernelspec": {
      "name": "python3",
      "display_name": "Python 3"
    },
    "language_info": {
      "name": "python"
    }
  },
  "cells": [
    {
      "cell_type": "markdown",
      "source": [
        "1.Assign the value 7 to the variable guess_me. Then, write the conditional tests (if, else, and elif) to print the string 'too low' if guess_me is less than 7, 'too high' if greater than 7, and 'just right' if equal to 7.\n"
      ],
      "metadata": {
        "id": "KjbEbOnC5p0m"
      }
    },
    {
      "cell_type": "code",
      "source": [
        "guess_me = 7"
      ],
      "metadata": {
        "id": "_eYzYcJx5x13"
      },
      "execution_count": null,
      "outputs": []
    },
    {
      "cell_type": "markdown",
      "source": [
        "2.Assign the value 7 to the variable guess_me and the value 1 to the variable start. Write a while loop that compares start with guess_me. Print too low if start is less than guess me. If start equals guess_me, print 'found it!' and exit the loop. If start is greater than guess_me, print 'oops' and exit the loop. Increment start at the end of the loop."
      ],
      "metadata": {
        "id": "W21SRV-T50Ca"
      }
    },
    {
      "cell_type": "code",
      "source": [
        "start = 8"
      ],
      "metadata": {
        "id": "z5ettxkK68qS"
      },
      "execution_count": null,
      "outputs": []
    },
    {
      "cell_type": "code",
      "source": [
        "while(True):\n",
        "  if(start == guess_me):\n",
        "    print(\"found it!\")\n",
        "    break\n",
        "  elif (start<guess_me):\n",
        "    print(\"Too low\")\n",
        "  else:\n",
        "    print(\"oops\")\n",
        "    break\n"
      ],
      "metadata": {
        "colab": {
          "base_uri": "https://localhost:8080/"
        },
        "id": "BizyDYdR53FX",
        "outputId": "6a5bc62e-bb31-4318-da63-278a838724f7"
      },
      "execution_count": null,
      "outputs": [
        {
          "output_type": "stream",
          "name": "stdout",
          "text": [
            "oops\n"
          ]
        }
      ]
    },
    {
      "cell_type": "markdown",
      "source": [
        "3.Print the following values of the list [3, 2, 1, 0] using a for loop."
      ],
      "metadata": {
        "id": "IH9s9fqz7Bd7"
      }
    },
    {
      "cell_type": "code",
      "source": [
        "l1 = [3,2,1,0]\n",
        "for i in l1:\n",
        "  print(i)"
      ],
      "metadata": {
        "colab": {
          "base_uri": "https://localhost:8080/"
        },
        "id": "VDJVG2Kr7ERR",
        "outputId": "e849d548-a4b8-465c-8809-65a8b297ee58"
      },
      "execution_count": null,
      "outputs": [
        {
          "output_type": "stream",
          "name": "stdout",
          "text": [
            "3\n",
            "2\n",
            "1\n",
            "0\n"
          ]
        }
      ]
    },
    {
      "cell_type": "markdown",
      "source": [
        "4.Use a list comprehension to make a list of the even numbers in range(10)\n"
      ],
      "metadata": {
        "id": "LyWpYH1W7KCo"
      }
    },
    {
      "cell_type": "code",
      "source": [
        "l2 = [x for x in range(10) if x%2 == 0]\n",
        "print(l2)"
      ],
      "metadata": {
        "colab": {
          "base_uri": "https://localhost:8080/"
        },
        "id": "jakcBWvP7MfC",
        "outputId": "160e32a3-ccf4-41b3-9535-1dd7ec31051c"
      },
      "execution_count": null,
      "outputs": [
        {
          "output_type": "stream",
          "name": "stdout",
          "text": [
            "[0, 2, 4, 6, 8]\n"
          ]
        }
      ]
    },
    {
      "cell_type": "markdown",
      "source": [
        "5.Use a dictionary comprehension to create the dictionary squares. Use range(10) to return the keys, and use the square of each key as its value."
      ],
      "metadata": {
        "id": "RW42Y15m7U4J"
      }
    },
    {
      "cell_type": "code",
      "source": [
        "d1 = {x: x**2 for x in range(10)}\n",
        "print(d1)"
      ],
      "metadata": {
        "colab": {
          "base_uri": "https://localhost:8080/"
        },
        "id": "j6nY9_hZ7X3g",
        "outputId": "fe30e9f9-7ee5-40d0-c7bb-e78b862a60cb"
      },
      "execution_count": null,
      "outputs": [
        {
          "output_type": "stream",
          "name": "stdout",
          "text": [
            "{0: 0, 1: 1, 2: 4, 3: 9, 4: 16, 5: 25, 6: 36, 7: 49, 8: 64, 9: 81}\n"
          ]
        }
      ]
    },
    {
      "cell_type": "markdown",
      "source": [
        "6.Construct the set odd from the odd numbers in the range using a set comprehension (10)."
      ],
      "metadata": {
        "id": "FylVy6ly7pL0"
      }
    },
    {
      "cell_type": "code",
      "source": [
        "l3 = {x for x in range(10) if x%2==1}\n",
        "print(l3)"
      ],
      "metadata": {
        "colab": {
          "base_uri": "https://localhost:8080/"
        },
        "id": "PpctJHSa7tCs",
        "outputId": "c9b002e1-c640-4e33-9894-76635998577e"
      },
      "execution_count": null,
      "outputs": [
        {
          "output_type": "stream",
          "name": "stdout",
          "text": [
            "{1, 3, 5, 7, 9}\n"
          ]
        }
      ]
    },
    {
      "cell_type": "markdown",
      "source": [
        "7.Use a generator comprehension to return the string 'Got ' and a number for the numbers in range(10). Iterate through this by using a for loop.\n"
      ],
      "metadata": {
        "id": "XK-brtko8I6Z"
      }
    },
    {
      "cell_type": "code",
      "source": [
        "gen_com = ('Got_'+str(x) for x in range(10))\n",
        "for ele in gen_com:\n",
        "    print(ele, end=' ')"
      ],
      "metadata": {
        "colab": {
          "base_uri": "https://localhost:8080/"
        },
        "id": "GfUwEj5uad38",
        "outputId": "090aa081-f41d-4594-8f19-5330281a5ade"
      },
      "execution_count": 7,
      "outputs": [
        {
          "output_type": "stream",
          "name": "stdout",
          "text": [
            "Got_0 Got_1 Got_2 Got_3 Got_4 Got_5 Got_6 Got_7 Got_8 Got_9 "
          ]
        }
      ]
    },
    {
      "cell_type": "markdown",
      "source": [
        "8.Define a function called good that returns the list ['Harry', 'Ron', 'Hermione']."
      ],
      "metadata": {
        "id": "GiC4tzj0ajDT"
      }
    },
    {
      "cell_type": "code",
      "source": [
        "def good():\n",
        "  return ['Harry','Ron','Hermione']\n",
        "print(good())"
      ],
      "metadata": {
        "colab": {
          "base_uri": "https://localhost:8080/"
        },
        "id": "X9oxgT1nakfN",
        "outputId": "aa94c5f5-6773-4e08-a30a-752e29d62003"
      },
      "execution_count": 2,
      "outputs": [
        {
          "output_type": "stream",
          "name": "stdout",
          "text": [
            "['Harry', 'Ron', 'Hermione']\n"
          ]
        }
      ]
    },
    {
      "cell_type": "markdown",
      "source": [
        "9.Define a generator function called get_odds that returns the odd numbers from range(10). Use a for loop to find and print the third value returned."
      ],
      "metadata": {
        "id": "53oQbJNca2iz"
      }
    },
    {
      "cell_type": "code",
      "source": [
        "def get_odds():\n",
        "  for i in range(10):\n",
        "    if i%2 == 1:\n",
        "      yield i\n",
        "count = 0\n",
        "for k in get_odds():\n",
        "  count += 1\n",
        "  if count == 3:\n",
        "    print(k)"
      ],
      "metadata": {
        "colab": {
          "base_uri": "https://localhost:8080/"
        },
        "id": "ezarAR9Ga62E",
        "outputId": "62d470b0-d835-46b0-c57a-42a61ecc64a4"
      },
      "execution_count": 4,
      "outputs": [
        {
          "output_type": "stream",
          "name": "stdout",
          "text": [
            "5\n"
          ]
        }
      ]
    },
    {
      "cell_type": "markdown",
      "source": [
        "10.Define an exception called OopsException. Raise this exception to see what happens. Then write the code to catch this exception and print 'Caught an oops'.\n"
      ],
      "metadata": {
        "id": "gTvau_2lbuuu"
      }
    },
    {
      "cell_type": "code",
      "source": [
        "class OopsException(Exception):\n",
        "    pass\n",
        "\n",
        "def test(input):\n",
        "    if input <0:\n",
        "        raise OopsException(a)\n",
        "try:\n",
        "    test(-100)\n",
        "except Exception as e:\n",
        "    print('Caught in Oops ->',e)"
      ],
      "metadata": {
        "colab": {
          "base_uri": "https://localhost:8080/"
        },
        "id": "DFXA6AmFbyYO",
        "outputId": "23a54c91-5e87-4c07-c03c-463b8a0cf410"
      },
      "execution_count": 6,
      "outputs": [
        {
          "output_type": "stream",
          "name": "stdout",
          "text": [
            "Caught in Oops -> name 'a' is not defined\n"
          ]
        }
      ]
    },
    {
      "cell_type": "markdown",
      "source": [
        "11.Use zip() to make a dictionary called movies that pairs these lists: titles = ['Creature of Habit', 'Crewel Fate'] and plots = ['A nun turns into a monster', 'A haunted yarn shop']."
      ],
      "metadata": {
        "id": "uYBOz2nRcMoa"
      }
    },
    {
      "cell_type": "code",
      "source": [
        "titles = ['Creature of Habit', 'Crewel Fate']\n",
        "plots = ['A nun turns into a monster', 'A haunted yarn shop']\n",
        "print(dict(zip(titles, plots)))"
      ],
      "metadata": {
        "colab": {
          "base_uri": "https://localhost:8080/"
        },
        "id": "u7u8tpV2cN2w",
        "outputId": "9e81558b-4aad-40cf-8853-0605fdb45e02"
      },
      "execution_count": 5,
      "outputs": [
        {
          "output_type": "stream",
          "name": "stdout",
          "text": [
            "{'Creature of Habit': 'A nun turns into a monster', 'Crewel Fate': 'A haunted yarn shop'}\n"
          ]
        }
      ]
    }
  ]
}