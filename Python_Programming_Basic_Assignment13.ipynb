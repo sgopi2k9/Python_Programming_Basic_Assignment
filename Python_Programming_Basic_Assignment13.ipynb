{
  "nbformat": 4,
  "nbformat_minor": 0,
  "metadata": {
    "colab": {
      "name": "Python_Programming_Basic_Assignment13.ipynb",
      "provenance": [],
      "collapsed_sections": []
    },
    "kernelspec": {
      "name": "python3",
      "display_name": "Python 3"
    },
    "language_info": {
      "name": "python"
    }
  },
  "cells": [
    {
      "cell_type": "markdown",
      "source": [
        "Question 1\n",
        "\n",
        "Write a program that calculates and prints the value according to the given formula:\n",
        "Q = Square root of [(2 * C * D)/H]\n",
        "\n",
        "\n",
        "Following are the fixed values of C and H:\n",
        "C is 50. H is 30.\n",
        "D is the variable whose values should be input to your program in a comma-separated\n",
        "sequence.\n",
        "\n",
        "\n",
        "Example\n",
        "Let us assume the following comma separated input sequence is given to the program:\n",
        "100,150,180\n",
        "The output of the program should be:\n",
        "18,22,24"
      ],
      "metadata": {
        "id": "E28VG5VgABQt"
      }
    },
    {
      "cell_type": "code",
      "source": [
        "from math import sqrt\n",
        "def calculate(d):\n",
        "  c = 50\n",
        "  h = 30\n",
        "  q = sqrt((2*c*d)/h)\n",
        "  return int(q)\n",
        "a = []\n",
        "k = input(\"Enter values: \")\n",
        "a = k.split(\",\")\n",
        "for i in a:\n",
        "  print(calculate(int(i)))"
      ],
      "metadata": {
        "colab": {
          "base_uri": "https://localhost:8080/"
        },
        "id": "EnkPPhGpAFI2",
        "outputId": "4dc402a2-28d8-4537-a1d2-1222d4ab39d4"
      },
      "execution_count": 11,
      "outputs": [
        {
          "output_type": "stream",
          "name": "stdout",
          "text": [
            "Enter values: 100,150,180\n",
            "18\n",
            "22\n",
            "24\n"
          ]
        }
      ]
    },
    {
      "cell_type": "markdown",
      "source": [
        "Question 2\n",
        "\n",
        "Write a program which takes 2 digits, X,Y as input and generates a 2-dimensional array. The\n",
        "element value in the i-th row and j-th column of the array should be i*j.\n",
        "Note: i=0,1.., X-1; j=0,1,¡Y-1.\n",
        "Example\n",
        "Suppose the following inputs are given to the program:\n",
        "3,5\n",
        "Then, the output of the program should be:\n",
        "[[0, 0, 0, 0, 0], [0, 1, 2, 3, 4], [0, 2, 4, 6, 8]]"
      ],
      "metadata": {
        "id": "xBC9hdU7E72y"
      }
    },
    {
      "cell_type": "code",
      "source": [
        "row_num = int(input(\"Enter row number: \"))\n",
        "col_num = int(input(\"Enter column number: \"))\n",
        "l = []\n",
        "l1 = []\n",
        "for i in range(0,row_num):\n",
        "  for j in range(0,col_num):\n",
        "    l1.append(i*j)\n",
        "  l.append(l1)\n",
        "  l1=[]\n",
        "print(l)"
      ],
      "metadata": {
        "colab": {
          "base_uri": "https://localhost:8080/"
        },
        "id": "9jfZcIIiE_WQ",
        "outputId": "64558127-0d45-4b41-88e7-b2e645431581"
      },
      "execution_count": 8,
      "outputs": [
        {
          "output_type": "stream",
          "name": "stdout",
          "text": [
            "Enter row number: 3\n",
            "Enter column number: 5\n",
            "[[0, 0, 0, 0, 0], [0, 1, 2, 3, 4], [0, 2, 4, 6, 8]]\n"
          ]
        }
      ]
    },
    {
      "cell_type": "markdown",
      "source": [
        "Question 3\n",
        "\n",
        "Question 3:\n",
        "Write a program that accepts a comma separated sequence of words as input and prints the\n",
        "words in a comma-separated sequence after sorting them alphabetically.\n",
        "Suppose the following input is supplied to the program:\n",
        "without,hello,bag,world\n",
        "Then, the output should be:\n",
        "bag,hello,without,world"
      ],
      "metadata": {
        "id": "ntrRn18LHoU4"
      }
    },
    {
      "cell_type": "code",
      "source": [
        "s = input(\"Enter string values: \")\n",
        "s = s.split(\",\")\n",
        "s.sort()\n",
        "for i in s:\n",
        "  print(i,end=\",\")"
      ],
      "metadata": {
        "colab": {
          "base_uri": "https://localhost:8080/"
        },
        "id": "-QnofV6RHqaI",
        "outputId": "1a3cb6ee-5787-4953-cd57-6eee5bd5a269"
      },
      "execution_count": 16,
      "outputs": [
        {
          "output_type": "stream",
          "name": "stdout",
          "text": [
            "Enter string values: without,hello,bag,world\n",
            "bag,hello,without,world,"
          ]
        }
      ]
    },
    {
      "cell_type": "markdown",
      "source": [
        "Question 4:\n",
        "Write a program that accepts a sequence of whitespace separated words as input and prints\n",
        "the words after removing all duplicate words and sorting them alphanumerically.\n",
        "Suppose the following input is supplied to the program:\n",
        "hello world and practice makes perfect and hello world again\n",
        "Then, the output should be:\n",
        "again and hello makes perfect practice world"
      ],
      "metadata": {
        "id": "RZc5daQzLQYY"
      }
    },
    {
      "cell_type": "code",
      "source": [
        "s = input(\"Enter the string: \")\n",
        "s = s.split(\" \")\n",
        "se = set(s)\n",
        "s = list(se)\n",
        "s.sort()\n",
        "print(\" \".join(s))"
      ],
      "metadata": {
        "colab": {
          "base_uri": "https://localhost:8080/"
        },
        "id": "Sn8JC8sjLTBF",
        "outputId": "8e718b74-f509-4cd1-baf6-f338262955cc"
      },
      "execution_count": 18,
      "outputs": [
        {
          "output_type": "stream",
          "name": "stdout",
          "text": [
            "Enter the string: hello world and practice makes perfect and hello world again\n",
            "again and hello makes perfect practice world\n"
          ]
        }
      ]
    },
    {
      "cell_type": "markdown",
      "source": [
        "Question 5:\n",
        "Write a program that accepts a sentence and calculate the number of letters and digits.\n",
        "Suppose the following input is supplied to the program:\n",
        "hello world! 123\n",
        "Then, the output should be:\n",
        "LETTERS 10\n",
        "\n",
        "DIGITS 3"
      ],
      "metadata": {
        "id": "dg8-hyMRMVVM"
      }
    },
    {
      "cell_type": "code",
      "source": [
        "import re\n",
        "letters_count=0\n",
        "digit_count=0\n",
        "s = input(\"Enter a string: \")\n",
        "reg1 = re.compile(\"[a-zA-Z]\")\n",
        "reg2 = re.compile(\"[0-9]\")\n",
        "for i in range(0,len(s)):\n",
        "  if reg1.match(s[i])!=None:\n",
        "    letters_count+=1\n",
        "  elif reg2.match(s[i])!=None:\n",
        "    digit_count+=1\n",
        "print(\"LETTERS: \"+str(letters_count))\n",
        "print(\"DIGITS: \"+str(digit_count))"
      ],
      "metadata": {
        "colab": {
          "base_uri": "https://localhost:8080/"
        },
        "id": "Qd7usgInMWV1",
        "outputId": "a798fbad-e35e-46e8-f9f9-9d59fbb3c770"
      },
      "execution_count": 20,
      "outputs": [
        {
          "output_type": "stream",
          "name": "stdout",
          "text": [
            "Enter a string: hello world ! 123\n",
            "LETTERS: 10\n",
            "DIGITS: 3\n"
          ]
        }
      ]
    },
    {
      "cell_type": "markdown",
      "source": [
        "Question 6:\n",
        "\n",
        "\n",
        "A website requires the users to input username and password to register. Write a program to\n",
        "check the validity of password input by users.\n",
        "Following are the criteria for checking the password:\n",
        "1. At least 1 letter between [a-z]\n",
        "2. At least 1 number between [0-9]\n",
        "1. At least 1 letter between [A-Z]\n",
        "3. At least 1 character from [$#@]\n",
        "4. Minimum length of transaction password: 6\n",
        "5. Maximum length of transaction password: 12\n",
        "Your program should accept a sequence of comma separated passwords and will check them\n",
        "according to the above criteria. Passwords that match the criteria are to be printed, each\n",
        "separated by a comma.\n",
        "Example\n",
        "If the following passwords are given as input to the program:\n",
        "ABd1234@1,a F1#,2w3E*,2We3345\n",
        "Then, the output of the program should be:\n",
        "ABd1234@1"
      ],
      "metadata": {
        "id": "H0d_e0pMOQFa"
      }
    },
    {
      "cell_type": "code",
      "source": [
        "import re\n",
        "s = input(\"Enter password strings: \")\n",
        "regx = \"^(?=.*[a-z])(?=.*[A-Z])(?=.*\\d)(?=.*[@$!%*#?&])[A-Za-z\\d@$!#%*?&]{6,20}$\"\n",
        "p = re.compile(regx)\n",
        "s = s.split(\",\")\n",
        "final_list=[]\n",
        "for i in s:\n",
        "  if (len(i)>6 and len(i)<12):\n",
        "       if re.search(p,i):\n",
        "          final_list.append(i)\n",
        "\n",
        "for i in final_list:\n",
        "  print(i,end=' ')"
      ],
      "metadata": {
        "colab": {
          "base_uri": "https://localhost:8080/"
        },
        "id": "CB9EDtD6ORdX",
        "outputId": "8e00f8ea-4ae4-40aa-ce43-3b009afc684a"
      },
      "execution_count": 45,
      "outputs": [
        {
          "output_type": "stream",
          "name": "stdout",
          "text": [
            "Enter password strings: ABd1234@1,a F1#,2w3E*,2We3345\n",
            "ABd1234@1 "
          ]
        }
      ]
    }
  ]
}