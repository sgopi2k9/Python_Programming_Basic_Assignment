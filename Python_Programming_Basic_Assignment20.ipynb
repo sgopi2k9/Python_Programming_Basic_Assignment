{
  "nbformat": 4,
  "nbformat_minor": 0,
  "metadata": {
    "colab": {
      "name": "Python_Programming_Basic_Assignment20.ipynb",
      "provenance": [],
      "collapsed_sections": []
    },
    "kernelspec": {
      "name": "python3",
      "display_name": "Python 3"
    },
    "language_info": {
      "name": "python"
    }
  },
  "cells": [
    {
      "cell_type": "markdown",
      "source": [
        "Question1\n",
        "Create a function that takes a list of strings and integers, and filters out the list so that it\n",
        "returns a list of integers only.\n",
        "\n",
        "Examples\n",
        "\n",
        "filter_list([1, 2, 3, &quot;a&quot;, &quot;b&quot;, 4]) ➞ [1, 2, 3, 4]\n",
        "\n",
        "filter_list([&quot;A&quot;, 0, &quot;Edabit&quot;, 1729, &quot;Python&quot;, &quot;1729&quot;]) ➞ [0, 1729]\n",
        "\n",
        "filter_list([&quot;Nothing&quot;, &quot;here&quot;]) ➞ []"
      ],
      "metadata": {
        "id": "IE20mwas4r2G"
      }
    },
    {
      "cell_type": "code",
      "source": [
        "def filter_list(l1):\n",
        "  l2 = []\n",
        "  l2 = [x for x in l1 if type(x)==int]\n",
        "  return l2\n",
        "\n",
        "print(filter_list([1, 2, 3, \"a\", \"b\", 4]))\n",
        "print(filter_list([\"A\", 0, \"Edabit\", 1729, \"Python\", \"1729\"]))\n",
        "print(filter_list([\"Nothing\", \"here\"]))\n"
      ],
      "metadata": {
        "colab": {
          "base_uri": "https://localhost:8080/"
        },
        "id": "mgtekW4J4vXO",
        "outputId": "8b3ccef5-8327-45da-9a67-bef6f7fafaec"
      },
      "execution_count": 3,
      "outputs": [
        {
          "output_type": "stream",
          "name": "stdout",
          "text": [
            "[1, 2, 3, 4]\n",
            "[0, 1729]\n",
            "[]\n"
          ]
        }
      ]
    },
    {
      "cell_type": "markdown",
      "source": [
        "Question2\n",
        "Given a list of numbers, create a function which returns the list but with each element&#39;s\n",
        "index in the list added to itself. This means you add 0 to the number at index 0, add 1 to the\n",
        "number at index 1, etc...\n",
        "\n",
        "Examples\n",
        "\n",
        "add_indexes([0, 0, 0, 0, 0]) ➞ [0, 1, 2, 3, 4]\n",
        "\n",
        "add_indexes([1, 2, 3, 4, 5]) ➞ [1, 3, 5, 7, 9]\n",
        "\n",
        "add_indexes([5, 4, 3, 2, 1]) ➞ [5, 5, 5, 5, 5]"
      ],
      "metadata": {
        "id": "7g3X2wcU5lu-"
      }
    },
    {
      "cell_type": "code",
      "source": [
        "def add_indexes(l1):\n",
        "  for i in range(0,len(l1)):\n",
        "    l1[i] = l1[i]+i\n",
        "  return l1\n",
        "\n",
        "print(add_indexes([0, 0, 0, 0, 0]))\n",
        "print(add_indexes([1, 2, 3, 4, 5]))\n",
        "print(add_indexes([5, 4, 3, 2, 1]))"
      ],
      "metadata": {
        "colab": {
          "base_uri": "https://localhost:8080/"
        },
        "id": "jE2vN_Ms5oB_",
        "outputId": "11b19067-b8a4-4748-a983-b91d8519d0ca"
      },
      "execution_count": 4,
      "outputs": [
        {
          "output_type": "stream",
          "name": "stdout",
          "text": [
            "[0, 1, 2, 3, 4]\n",
            "[1, 3, 5, 7, 9]\n",
            "[5, 5, 5, 5, 5]\n"
          ]
        }
      ]
    },
    {
      "cell_type": "markdown",
      "source": [
        "Question3\n",
        "Create a function that takes the height and radius of a cone as arguments and returns the\n",
        "volume of the cone rounded to the nearest hundredth. See the resources tab for the formula.\n",
        "\n",
        "Examples\n",
        "cone_volume(3, 2) ➞ 12.57\n",
        "\n",
        "cone_volume(15, 6) ➞ 565.49\n",
        "\n",
        "cone_volume(18, 0) ➞ 0"
      ],
      "metadata": {
        "id": "ZdKAnTeq6E2R"
      }
    },
    {
      "cell_type": "code",
      "source": [
        "from math import pi\n",
        "def cone_volume(h,r):\n",
        "  return (pi*r*r*h)/3\n",
        "\n",
        "print(format(cone_volume(3,2),\".2f\"))\n",
        "print(format(cone_volume(15,6),\".2f\"))\n",
        "print(format(cone_volume(18,0),\".2f\"))\n"
      ],
      "metadata": {
        "colab": {
          "base_uri": "https://localhost:8080/"
        },
        "id": "vvayJo9q6Mtw",
        "outputId": "864119cf-de7a-44b0-c92d-d36ff7b8f90a"
      },
      "execution_count": 8,
      "outputs": [
        {
          "output_type": "stream",
          "name": "stdout",
          "text": [
            "12.57\n",
            "565.49\n",
            "0.00\n"
          ]
        }
      ]
    },
    {
      "cell_type": "markdown",
      "source": [
        "Question4\n",
        "This Triangular Number Sequence is generated from a pattern of dots that form a triangle.\n",
        "The first 5 numbers of the sequence, or dots, are:\n",
        "1, 3, 6, 10, 15\n",
        "This means that the first triangle has just one dot, the second one has three dots, the third one\n",
        "has 6 dots and so on.\n",
        "Write a function that gives the number of dots with its corresponding triangle number of the\n",
        "sequence.\n",
        "\n",
        "Examples\n",
        "\n",
        "triangle(1) ➞ 1\n",
        "\n",
        "triangle(6) ➞ 21\n",
        "\n",
        "triangle(215) ➞ 23220"
      ],
      "metadata": {
        "id": "waWTvbD17Ea5"
      }
    },
    {
      "cell_type": "code",
      "source": [
        "def triangle(n):\n",
        "  return n*(n+1)//2\n",
        "print(triangle(1))\n",
        "print(triangle(6))\n",
        "print(triangle(215))"
      ],
      "metadata": {
        "colab": {
          "base_uri": "https://localhost:8080/"
        },
        "id": "Oie3fvCk7Gb-",
        "outputId": "139bb7b7-d110-4d5b-9c5a-bc3bef5913dc"
      },
      "execution_count": 15,
      "outputs": [
        {
          "output_type": "stream",
          "name": "stdout",
          "text": [
            "1\n",
            "21\n",
            "23220\n"
          ]
        }
      ]
    },
    {
      "cell_type": "markdown",
      "source": [
        "Question5\n",
        "Create a function that takes a list of numbers between 1 and 10 (excluding one number) and\n",
        "returns the missing number.\n",
        "\n",
        "Examples\n",
        "\n",
        "missing_num([1, 2, 3, 4, 6, 7, 8, 9, 10]) ➞ 5\n",
        "\n",
        "missing_num([7, 2, 3, 6, 5, 9, 1, 4, 8]) ➞ 10\n",
        "\n",
        "missing_num([10, 5, 1, 2, 4, 6, 8, 3, 9]) ➞ 7"
      ],
      "metadata": {
        "id": "UrzFPd_z_wUU"
      }
    },
    {
      "cell_type": "code",
      "source": [
        "def missing_num(l1):\n",
        "  l2 = [1,2,3,4,5,6,7,8,9,10]\n",
        "  l3 = [i for i in l1+l2 if i not in l1 or i not in l2]\n",
        "  return l3\n",
        "\n",
        "print(missing_num([1,2,3,4,6,7,8,9,10]))\n",
        "print(missing_num([7, 2, 3, 6, 5, 9, 1, 4, 8]))\n",
        "print(missing_num([10, 5, 1, 2, 4, 6, 8, 3, 9]))\n"
      ],
      "metadata": {
        "colab": {
          "base_uri": "https://localhost:8080/"
        },
        "id": "JM-_6pNb_yPN",
        "outputId": "9aa8885b-0cb3-4420-f411-50ee8313f413"
      },
      "execution_count": 21,
      "outputs": [
        {
          "output_type": "stream",
          "name": "stdout",
          "text": [
            "[5]\n",
            "[10]\n",
            "[7]\n"
          ]
        }
      ]
    }
  ]
}