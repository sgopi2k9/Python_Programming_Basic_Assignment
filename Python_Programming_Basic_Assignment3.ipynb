{
  "nbformat": 4,
  "nbformat_minor": 0,
  "metadata": {
    "colab": {
      "name": "Python_Programming_Basic_Assignment3.ipynb",
      "provenance": [],
      "collapsed_sections": []
    },
    "kernelspec": {
      "name": "python3",
      "display_name": "Python 3"
    },
    "language_info": {
      "name": "python"
    }
  },
  "cells": [
    {
      "cell_type": "markdown",
      "source": [
        "Question 1.Write a Python Program to Check if a Number is Positive, Negative or Zero?"
      ],
      "metadata": {
        "id": "YdLNQvZxdR6X"
      }
    },
    {
      "cell_type": "code",
      "source": [
        "numCheck = int(input(\"Enter a number: \"))\n",
        "if numCheck == 0:\n",
        "  print(\"Entered number is zero\")\n",
        "elif numCheck > 0:\n",
        "  print(\"Entered number is postive\")\n",
        "else:\n",
        "  print(\"Entered number is negative\")"
      ],
      "metadata": {
        "colab": {
          "base_uri": "https://localhost:8080/"
        },
        "id": "OMHnAAPHdTvP",
        "outputId": "ac725fbc-e963-4cf6-8aba-dfbae9db0e4a"
      },
      "execution_count": 2,
      "outputs": [
        {
          "output_type": "stream",
          "name": "stdout",
          "text": [
            "Enter a number: 100\n",
            "Entered number is postive\n"
          ]
        }
      ]
    },
    {
      "cell_type": "markdown",
      "source": [
        "Question 2.Write a Python Program to Check if a Number is Odd or Even?"
      ],
      "metadata": {
        "id": "PODhpUy8drbs"
      }
    },
    {
      "cell_type": "code",
      "source": [
        "num = int(input(\"Enter a number: \"))\n",
        "if num%2 == 0:\n",
        "  print(\"{} is a even number\".format(str(num)))\n",
        "else:\n",
        "  print(\"{} is a odd number\".format(str(num)))"
      ],
      "metadata": {
        "colab": {
          "base_uri": "https://localhost:8080/"
        },
        "id": "YYevUtupdviQ",
        "outputId": "b8d7a0b7-4f63-4743-bb63-73c5cc40f97a"
      },
      "execution_count": 3,
      "outputs": [
        {
          "output_type": "stream",
          "name": "stdout",
          "text": [
            "Enter a number: 2\n",
            "2 is a even number\n"
          ]
        }
      ]
    },
    {
      "cell_type": "markdown",
      "source": [
        "Question 3.Write a Python Program to Check Leap Year?"
      ],
      "metadata": {
        "id": "cIFDHtxJeEyI"
      }
    },
    {
      "cell_type": "code",
      "source": [
        "year = int(input(\"Enter a year: \"))\n",
        "if((year % 400 == 0) or (year % 100 != 0) and (year % 4 == 0)):\n",
        "  print(\"Entered year is a leap year\")\n",
        "else:\n",
        "  print(\"Not a leap year\")"
      ],
      "metadata": {
        "colab": {
          "base_uri": "https://localhost:8080/"
        },
        "id": "_YztkilmeJA5",
        "outputId": "38136a26-517e-4e68-af95-9f8730d951f2"
      },
      "execution_count": 4,
      "outputs": [
        {
          "output_type": "stream",
          "name": "stdout",
          "text": [
            "Enter a year: 1900\n",
            "Not a leap year\n"
          ]
        }
      ]
    },
    {
      "cell_type": "markdown",
      "source": [
        "Question 4.Write a Python Program to Check Prime Number?"
      ],
      "metadata": {
        "id": "pFo4bZThew8l"
      }
    },
    {
      "cell_type": "code",
      "source": [
        "i=0\n",
        "numPrime=0\n",
        "numPrime = int(input(\"Enter a number: \"))\n",
        "if numPrime > 1:\n",
        "  for i in range(2,int(numPrime/2)+1):\n",
        "    if numPrime%i == 0:\n",
        "      print(\"Not a prime number\")\n",
        "      break\n",
        "  else:\n",
        "      print(\"Prime number\")\n",
        "else:\n",
        "  print(\"Not a prime number\")"
      ],
      "metadata": {
        "colab": {
          "base_uri": "https://localhost:8080/"
        },
        "id": "xlw_FOGpe1aM",
        "outputId": "9006ab1a-525b-4a1a-ad6d-2a4d6418d71d"
      },
      "execution_count": 42,
      "outputs": [
        {
          "output_type": "stream",
          "name": "stdout",
          "text": [
            "Enter a number: 21\n",
            "Not a prime number\n"
          ]
        }
      ]
    },
    {
      "cell_type": "markdown",
      "source": [
        "Question 5.Write a Python Program to Print all Prime Numbers in an Interval of 1-10000?"
      ],
      "metadata": {
        "id": "L5D9G9suh5BB"
      }
    },
    {
      "cell_type": "code",
      "source": [
        "i=0\n",
        "j=0\n",
        "for i in range(1,10000):\n",
        "  if i > 1:\n",
        "    for j in range(2,i):\n",
        "      if i%j == 0:\n",
        "        break\n",
        "    else:\n",
        "      print(i)"
      ],
      "metadata": {
        "id": "sd_sPVZvh7yL"
      },
      "execution_count": null,
      "outputs": []
    }
  ]
}