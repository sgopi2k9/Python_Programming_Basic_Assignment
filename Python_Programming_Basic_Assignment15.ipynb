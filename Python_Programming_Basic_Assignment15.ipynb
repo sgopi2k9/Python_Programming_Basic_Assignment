{
  "nbformat": 4,
  "nbformat_minor": 0,
  "metadata": {
    "colab": {
      "name": "Python_Programming_Basic_Assignment15.ipynb",
      "provenance": [],
      "collapsed_sections": []
    },
    "kernelspec": {
      "name": "python3",
      "display_name": "Python 3"
    },
    "language_info": {
      "name": "python"
    }
  },
  "cells": [
    {
      "cell_type": "code",
      "execution_count": null,
      "metadata": {
        "id": "23w6HbsUy9EP"
      },
      "outputs": [],
      "source": [
        ""
      ]
    },
    {
      "cell_type": "markdown",
      "source": [
        "Question 1:\n",
        "Please write a program using generator to print the numbers which can be divisible by 5 and\n",
        "7 between 0 and n in comma separated form while n is input by console.\n",
        "\n",
        "Example:\n",
        "\n",
        "If the following n is given as input to the program:\n",
        "\n",
        "100\n",
        "\n",
        "Then, the output of the program should be:\n",
        "\n",
        "0,35,70"
      ],
      "metadata": {
        "id": "R4lJR11bzITB"
      }
    },
    {
      "cell_type": "code",
      "source": [
        "l = []\n",
        "i=0\n",
        "j=0\n",
        "def gen(n):\n",
        "  for i in range(0,n):\n",
        "    yield i\n",
        "def divcheck(num):\n",
        "  for j in gen(num):\n",
        "    if j%5==0 and j%7==0:\n",
        "      l.append(str(j))\n",
        "  return l\n",
        "\n",
        "n = int(input(\"Enter a number: \"))\n",
        "if n<=0:\n",
        "  print(\"Invalid input\")\n",
        "else:\n",
        "  k = divcheck(n)\n",
        "  print(\",\".join(k))"
      ],
      "metadata": {
        "colab": {
          "base_uri": "https://localhost:8080/"
        },
        "id": "LCji_pqRzLBf",
        "outputId": "7135fd0f-dd4d-443f-ea06-c8f7b2589856"
      },
      "execution_count": 9,
      "outputs": [
        {
          "output_type": "stream",
          "name": "stdout",
          "text": [
            "Enter a number: 100\n",
            "0,35,70\n"
          ]
        }
      ]
    },
    {
      "cell_type": "markdown",
      "source": [
        "Question 2:\n",
        "Please write a program using generator to print the even numbers between 0 and n in comma\n",
        "separated form while n is input by console.\n",
        "\n",
        "Example:\n",
        "\n",
        "If the following n is given as input to the program:\n",
        "\n",
        "10\n",
        "\n",
        "Then, the output of the program should be:\n",
        "\n",
        "0,2,4,6,8,10"
      ],
      "metadata": {
        "id": "Ta3gE_xj1U6q"
      }
    },
    {
      "cell_type": "code",
      "source": [
        "l = []\n",
        "i=0\n",
        "j=0\n",
        "def gen(n):\n",
        "  for i in range(0,n):\n",
        "    yield i\n",
        "def evencheck(num):\n",
        "  for j in gen(num):\n",
        "    if j%2==0:\n",
        "      l.append(str(j))\n",
        "  return l\n",
        "\n",
        "n = int(input(\"Enter a number: \"))\n",
        "if n<=0:\n",
        "  print(\"Invalid input\")\n",
        "else:\n",
        "  k = evencheck(n)\n",
        "  print(\",\".join(k))"
      ],
      "metadata": {
        "colab": {
          "base_uri": "https://localhost:8080/"
        },
        "id": "0TrZJSpa1Zff",
        "outputId": "d9520169-fdf6-49b5-8aae-3d2c07fecab2"
      },
      "execution_count": 10,
      "outputs": [
        {
          "output_type": "stream",
          "name": "stdout",
          "text": [
            "Enter a number: 10\n",
            "0,2,4,6,8\n"
          ]
        }
      ]
    },
    {
      "cell_type": "markdown",
      "source": [
        "Question 3:\n",
        "The Fibonacci Sequence is computed based on the following formula:\n",
        "f(n)=0 if n=0\n",
        "f(n)=1 if n=1\n",
        "f(n)=f(n-1)+f(n-2) if n&gt;1\n",
        "Please write a program using list comprehension to print the Fibonacci Sequence in comma\n",
        "separated form with a given n input by console.\n",
        "\n",
        "Example:\n",
        "\n",
        "If the following n is given as input to the program:\n",
        "\n",
        "7\n",
        "\n",
        "\n",
        "Then, the output of the program should be:\n",
        "\n",
        "0,1,1,2,3,5,8,13"
      ],
      "metadata": {
        "id": "7mXWiFds1tBx"
      }
    },
    {
      "cell_type": "code",
      "source": [
        "l1 = []\n",
        "a = 0\n",
        "b = 1\n",
        "c = 0\n",
        "n = int(input(\"Enter number of fibonacci series terms: \"))\n",
        "l1.append(a)\n",
        "l1.append(b)\n",
        "if n<0:\n",
        "  print(\"Invalid input\")\n",
        "else:\n",
        "  [l1.append(l1[j-1]+l1[j-2]) for j in range(2,n)]\n",
        "  print(l1)"
      ],
      "metadata": {
        "colab": {
          "base_uri": "https://localhost:8080/"
        },
        "id": "DXp1wJBt1wPF",
        "outputId": "07dd7c66-cce3-4fde-802e-733d74f9063e"
      },
      "execution_count": 21,
      "outputs": [
        {
          "output_type": "stream",
          "name": "stdout",
          "text": [
            "Enter number of fibonacci series terms: 7\n",
            "[0, 1, 1, 2, 3, 5, 8]\n"
          ]
        }
      ]
    },
    {
      "cell_type": "markdown",
      "source": [
        "Question 4:\n",
        "Assuming that we have some email addresses in the &quot;username@companyname.com&quot; format,\n",
        "please write program to print the user name of a given email address. Both user names and\n",
        "company names are composed of letters only.\n",
        "\n",
        "Example:\n",
        "\n",
        "If the following email address is given as input to the program:\n",
        "\n",
        "john@google.com\n",
        "\n",
        "Then, the output of the program should be:\n",
        "\n",
        "john"
      ],
      "metadata": {
        "id": "N8ws8inu9Bs9"
      }
    },
    {
      "cell_type": "code",
      "source": [
        "#Given that user names and company names are composed of lettters only. No special characters involved\n",
        "inp = input(\"Enter email address: \")\n",
        "s = inp.split(\"@\")[0]\n",
        "if s:\n",
        "  print(\"User name is :\"+s)\n",
        "else:\n",
        "  print(\"Invalid email address\")"
      ],
      "metadata": {
        "colab": {
          "base_uri": "https://localhost:8080/"
        },
        "id": "CPCSNpPl9EeF",
        "outputId": "b5217404-75f7-42ae-ba68-b5c1112f70e8"
      },
      "execution_count": 24,
      "outputs": [
        {
          "output_type": "stream",
          "name": "stdout",
          "text": [
            "Enter email address: test@email.com\n",
            "User name is :test\n"
          ]
        }
      ]
    },
    {
      "cell_type": "markdown",
      "source": [
        "Question 5:\n",
        "Define a class named Shape and its subclass Square. The Square class has an init function\n",
        "which takes a length as argument. Both classes have a area function which can print the area\n",
        "of the shape where Shape&#39;s area is 0 by default."
      ],
      "metadata": {
        "id": "xcOoR8rC-cXU"
      }
    },
    {
      "cell_type": "code",
      "source": [
        "class Shape:\n",
        "  def area(self,l):\n",
        "    self.l = l\n",
        "    if self.l!=0:\n",
        "      return self.l*self.l\n",
        "    else:\n",
        "      return 0\n",
        "\n",
        "class Square(Shape):\n",
        "  def __init__(self,length):\n",
        "    self.length = length\n",
        "  def area(self):\n",
        "    return self.length*self.length\n",
        "\n",
        "s = Square(2)\n",
        "print(\"Area is :\"+str(s.area()))\n"
      ],
      "metadata": {
        "colab": {
          "base_uri": "https://localhost:8080/"
        },
        "id": "o7MrwH6E-eGy",
        "outputId": "104a127f-cf85-4388-85b5-29fa3ec7c58c"
      },
      "execution_count": 28,
      "outputs": [
        {
          "output_type": "stream",
          "name": "stdout",
          "text": [
            "Area is :4\n"
          ]
        }
      ]
    }
  ]
}