{
  "nbformat": 4,
  "nbformat_minor": 0,
  "metadata": {
    "colab": {
      "name": "Python_Programming_Basic_Assignment5.ipynb",
      "provenance": [],
      "collapsed_sections": []
    },
    "kernelspec": {
      "name": "python3",
      "display_name": "Python 3"
    },
    "language_info": {
      "name": "python"
    }
  },
  "cells": [
    {
      "cell_type": "markdown",
      "source": [
        "Question 1.Write a Python Program to Find LCM?"
      ],
      "metadata": {
        "id": "TxXRiAPkQj0t"
      }
    },
    {
      "cell_type": "code",
      "source": [
        "num1=0,num2=0\n",
        "num1 = int(input(\"Enter number 1: \"))\n",
        "num2 = int(input(\"Enter number 2: \"))\n",
        "lcm = 0\n",
        "max = num1 if num1>num2 else num2\n",
        "while(True):\n",
        "  if max%num1 == 0 and max%num2 ==0 :\n",
        "    lcm = max\n",
        "    break\n",
        "  max+=1\n",
        "print(\"LCM of {} and {} are {}\".format(num1,num2,lcm))\n"
      ],
      "metadata": {
        "colab": {
          "base_uri": "https://localhost:8080/"
        },
        "id": "UB0kRBybQ6XX",
        "outputId": "d8732175-c293-4b2b-94de-40f0f421f6ec"
      },
      "execution_count": 1,
      "outputs": [
        {
          "output_type": "stream",
          "name": "stdout",
          "text": [
            "Enter number 1: 2\n",
            "Enter number 2: 3\n",
            "LCM of 2 and 3 are 6\n"
          ]
        }
      ]
    },
    {
      "cell_type": "markdown",
      "source": [
        "Question 2.Write a Python Program to Find HCF?"
      ],
      "metadata": {
        "id": "0DvW_4kWSVKr"
      }
    },
    {
      "cell_type": "code",
      "source": [
        "num1=0\n",
        "num2=0\n",
        "num1 = int(input(\"Enter number 1: \"))\n",
        "num2 = int(input(\"Enter number 2: \"))\n",
        "hcf=0\n",
        "min = num1 if num1<num2 else num2\n",
        "for i in range(1,min+1):\n",
        "  if num1%i==0 and num2%i==0:\n",
        "    hcf=i\n",
        "print(\"HCF of {} and {} are {}\".format(num1,num2,hcf))"
      ],
      "metadata": {
        "colab": {
          "base_uri": "https://localhost:8080/"
        },
        "id": "uVKDQPGGTyyZ",
        "outputId": "74170455-b1fd-4aad-ebd2-5778316f6334"
      },
      "execution_count": 4,
      "outputs": [
        {
          "output_type": "stream",
          "name": "stdout",
          "text": [
            "Enter number 1: 2\n",
            "Enter number 2: 4\n",
            "HCF of 2 and 4 are 2\n"
          ]
        }
      ]
    },
    {
      "cell_type": "markdown",
      "source": [
        "Question 3.Write a Python Program to Convert Decimal to Binary, Octal and Hexadecimal?"
      ],
      "metadata": {
        "id": "5obtghSYUlfw"
      }
    },
    {
      "cell_type": "code",
      "source": [
        "def decimalToBinary(n):\n",
        "  binaryVal=''\n",
        "  if n==0:\n",
        "    return '0'\n",
        "  else:\n",
        "    while(n!=0):\n",
        "      binaryVal = binaryVal+str(n%2)\n",
        "      n = int(n/2)\n",
        "    return binaryVal[::-1]\n",
        "\n",
        "def decimalToOctal(n):\n",
        "  octalVal = ''\n",
        "  if n==0:\n",
        "    return '0'\n",
        "  else:\n",
        "    while(n!=0):\n",
        "      octalVal = octalVal+str(n%8)\n",
        "      n = int(n/8)\n",
        "    return octalVal[::-1]\n",
        "\n",
        "def decimalToHexadecimal(n):\n",
        "  hexaVal=''\n",
        "  conversiontable = {0:'0',1:'1',2:'2',3:'3',4:'4',5:'5',6:'6',7:'7',8:'8',9:'9',10:'A',11:'B',12:'C',13:'D',14:'E',15:'F'}\n",
        "  if n==0:\n",
        "    return '0'\n",
        "  else:\n",
        "    while(n!=0):\n",
        "      hexaVal = hexaVal+str(conversiontable[(n%16)])\n",
        "      n = int(n/16)\n",
        "    return hexaVal[::-1]\n",
        "\n",
        "num = 0\n",
        "num = int(input(\"Enter a number: \"))\n",
        "print(\"Binary value of given number is : \"+decimalToBinary(num))\n",
        "print(\"Octal value of given number is : \"+decimalToOctal(num))\n",
        "print(\"Hexa decimal value of given number is : \"+decimalToHexadecimal(num))"
      ],
      "metadata": {
        "colab": {
          "base_uri": "https://localhost:8080/"
        },
        "id": "_dJoZehPUnOk",
        "outputId": "37a31277-c6c9-40b2-b4c0-09d91f088d4b"
      },
      "execution_count": 28,
      "outputs": [
        {
          "output_type": "stream",
          "name": "stdout",
          "text": [
            "Enter a number: 69\n",
            "Binary value of given number is : 1000101\n",
            "Octal value of given number is : 105\n",
            "Hexa decimal value of given number is : 45\n"
          ]
        }
      ]
    },
    {
      "cell_type": "markdown",
      "source": [
        "Question 4.Write a Python Program To Find ASCII value of a character?"
      ],
      "metadata": {
        "id": "ZMQPRtshiELQ"
      }
    },
    {
      "cell_type": "code",
      "source": [
        "charInput = input(\"Enter a character: \")\n",
        "print(\"ASCII value of {} is {}\".format(charInput,ord(charInput)))"
      ],
      "metadata": {
        "colab": {
          "base_uri": "https://localhost:8080/"
        },
        "id": "SDy8Fs4diGMj",
        "outputId": "0238378b-1d80-42db-a934-501868892f29"
      },
      "execution_count": 29,
      "outputs": [
        {
          "output_type": "stream",
          "name": "stdout",
          "text": [
            "Enter a character: A\n",
            "ASCII value of A is 65\n"
          ]
        }
      ]
    },
    {
      "cell_type": "markdown",
      "source": [
        "Question 5.Write a Python Program to Make a Simple Calculator with 4 basic mathematical operations?"
      ],
      "metadata": {
        "id": "qUOvZoB3izIr"
      }
    },
    {
      "cell_type": "code",
      "source": [
        "num1 = 0\n",
        "num2 = 0\n",
        "def mathOperation(n1,n2,c):\n",
        "  if c == 1:\n",
        "    return n1+n2\n",
        "  elif c == 2:\n",
        "    return n1-n2\n",
        "  elif c == 3:\n",
        "    return n1*n2\n",
        "  elif c == 4:\n",
        "    if(n2==0):\n",
        "      return \"Division by zero is not allowed\"\n",
        "    else:\n",
        "      return n1/n2\n",
        "  else:\n",
        "    return \"Invalid operation\"\n",
        "\n",
        "num1 = int(input(\"Enter a number:\"))\n",
        "num2 = int(input(\"Enter a number:\"))\n",
        "print(\"\\n1.Addition\\n2.Subtraction\\n3.Multiplication\\n4.Division\")\n",
        "choice = int(input(\"Enter the choice of mathematical operation from above: \"))\n",
        "print(\"Result is :\"+str(mathOperation(num1,num2,choice)))"
      ],
      "metadata": {
        "colab": {
          "base_uri": "https://localhost:8080/"
        },
        "id": "tgbznEQCi1A-",
        "outputId": "f8085632-c131-48f2-ae28-cc32f0e5ba2a"
      },
      "execution_count": 33,
      "outputs": [
        {
          "output_type": "stream",
          "name": "stdout",
          "text": [
            "Enter a number:10\n",
            "Enter a number:20\n",
            "\n",
            "1.Addition\n",
            "2.Subtraction\n",
            "3.Multiplication\n",
            "4.Division\n",
            "Enter the choice of mathematical operation from above: 3\n",
            "Result is :200\n"
          ]
        }
      ]
    }
  ]
}