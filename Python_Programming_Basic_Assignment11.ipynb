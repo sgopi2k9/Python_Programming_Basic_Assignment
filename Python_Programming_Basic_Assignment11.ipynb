{
  "nbformat": 4,
  "nbformat_minor": 0,
  "metadata": {
    "colab": {
      "name": "Python_Programming_Basic_Assignment11.ipynb",
      "provenance": []
    },
    "kernelspec": {
      "name": "python3",
      "display_name": "Python 3"
    },
    "language_info": {
      "name": "python"
    }
  },
  "cells": [
    {
      "cell_type": "markdown",
      "source": [
        "Question 1.Write a Python program to find words which are greater than given length k?"
      ],
      "metadata": {
        "id": "9isZ0kGR75Fe"
      }
    },
    {
      "cell_type": "code",
      "source": [
        "s = \"This is a sample string\"\n",
        "l = s.split(\" \")\n",
        "minVal = len(l[0])\n",
        "num = int(input(\"Enter threshold word length: \"))\n",
        "for i in l:\n",
        "  if minVal>len(i):\n",
        "    minVal = len(i)\n",
        "if num<=0 or num<minVal:\n",
        "  print(\"Invalid input\")\n",
        "else:\n",
        "  for i in l:\n",
        "    if len(i)>num:\n",
        "      print(i)"
      ],
      "metadata": {
        "colab": {
          "base_uri": "https://localhost:8080/"
        },
        "id": "VpC-J-SJ8AJB",
        "outputId": "6466002c-edd3-4722-833c-3431087ea3d5"
      },
      "execution_count": 8,
      "outputs": [
        {
          "output_type": "stream",
          "name": "stdout",
          "text": [
            "Enter threshold word length: 4\n",
            "sample\n",
            "string\n"
          ]
        }
      ]
    },
    {
      "cell_type": "markdown",
      "source": [
        "Question 2:Write a Python program for removing i-th character from a string?"
      ],
      "metadata": {
        "id": "PlNVygnJBLX1"
      }
    },
    {
      "cell_type": "code",
      "source": [
        "s = \"This is a sample string\"\n",
        "num = int(input(\"Enter the ith character to be removed: \"))\n",
        "if num <0 or num>len(s):\n",
        "  print(\"Invalid input\")\n",
        "else:\n",
        "  s1 = s[0:num-1]+s[num:len(s)]\n",
        "  print(s1)"
      ],
      "metadata": {
        "colab": {
          "base_uri": "https://localhost:8080/"
        },
        "id": "c9fMhIvSBNLe",
        "outputId": "812da42c-ccee-4e39-b3ea-be526a50f49f"
      },
      "execution_count": 22,
      "outputs": [
        {
          "output_type": "stream",
          "name": "stdout",
          "text": [
            "Enter the ith character to be removed: 2\n",
            "Tis is a sample string\n"
          ]
        }
      ]
    },
    {
      "cell_type": "markdown",
      "source": [
        "Question 3.Write a Python program to split and join a string?"
      ],
      "metadata": {
        "id": "JM10L4TuC0V4"
      }
    },
    {
      "cell_type": "code",
      "source": [
        "def split_string(string,splitchar):\n",
        "  l = string.split(splitchar)\n",
        "  return l\n",
        "def join_string(string,joinchar):\n",
        "  jstring = joinchar.join(string)\n",
        "  return jstring\n",
        "s = \"This is a sample string\"\n",
        "ls = ['This','is','a','sample','string']\n",
        "print(\"split string \", split_string(s,'s'))\n",
        "print(\"Joined string \",join_string(ls,'-'))"
      ],
      "metadata": {
        "colab": {
          "base_uri": "https://localhost:8080/"
        },
        "id": "5KSR-zdWC4yr",
        "outputId": "e19c9cb1-f55a-4e7f-912d-0dd85189b5ba"
      },
      "execution_count": 27,
      "outputs": [
        {
          "output_type": "stream",
          "name": "stdout",
          "text": [
            "split string  ['Thi', ' i', ' a ', 'ample ', 'tring']\n",
            "Joined string  This-is-a-sample-string\n"
          ]
        }
      ]
    },
    {
      "cell_type": "markdown",
      "source": [
        "Question 4.Write a Python to check if a given string is binary string or not?"
      ],
      "metadata": {
        "id": "WUud495qFvLa"
      }
    },
    {
      "cell_type": "code",
      "source": [
        "def checkBinary(string):\n",
        "  p = set(string)\n",
        "  s = {'0','1'}\n",
        "  if s==p or p=={'1'} or p=={'0'}:\n",
        "    print(string +\" is Binary string\")\n",
        "  else:\n",
        "    print(string +\" is Not a Binary string\")\n",
        "checkBinary(\"1001\")\n",
        "checkBinary(\"asdf\")"
      ],
      "metadata": {
        "colab": {
          "base_uri": "https://localhost:8080/"
        },
        "id": "iyj-i5HRFww6",
        "outputId": "434693db-1ca0-431b-bed1-31470d226f7b"
      },
      "execution_count": 28,
      "outputs": [
        {
          "output_type": "stream",
          "name": "stdout",
          "text": [
            "1001 is Binary string\n",
            "asdf is Not a Binary string\n"
          ]
        }
      ]
    },
    {
      "cell_type": "markdown",
      "source": [
        "Question 5.Write a Python program to find uncommon words from two Strings?"
      ],
      "metadata": {
        "id": "07_wQ2IaGqXw"
      }
    },
    {
      "cell_type": "code",
      "source": [
        "s1 = \"This is string1\"\n",
        "s2 = \"This is string2\"\n",
        "s1=s1.lower()\n",
        "s2=s2.lower()\n",
        "l1 = s1.split(\" \")\n",
        "l2 = s2.split(\" \")\n",
        "for i in l1:\n",
        "  if i not in l2:\n",
        "    print(i)\n",
        "for j in l2:\n",
        "  if j not in l1:\n",
        "    print(j)"
      ],
      "metadata": {
        "colab": {
          "base_uri": "https://localhost:8080/"
        },
        "id": "jo1hTy_zGs46",
        "outputId": "f7b1d39a-d8b5-488e-b452-57c485043b28"
      },
      "execution_count": 30,
      "outputs": [
        {
          "output_type": "stream",
          "name": "stdout",
          "text": [
            "string1\n",
            "string2\n"
          ]
        }
      ]
    },
    {
      "cell_type": "markdown",
      "source": [
        "Question 6.Write a Python to find all duplicate characters in string?"
      ],
      "metadata": {
        "id": "33_WmqaJSh7Z"
      }
    },
    {
      "cell_type": "code",
      "source": [
        "s = \"This is a sample string\"\n",
        "s = s.lower()\n",
        "d = {}\n",
        "for i in s:\n",
        "  if i not in d.keys():\n",
        "    d[i]=1\n",
        "  else:\n",
        "    d[i]=d[i]+1\n",
        "for i,j in d.items():\n",
        "  if j>1:\n",
        "    print(i)"
      ],
      "metadata": {
        "colab": {
          "base_uri": "https://localhost:8080/"
        },
        "id": "lv2pl06nSj6a",
        "outputId": "5ed91982-ca05-403a-d5a3-1379c1332f44"
      },
      "execution_count": 33,
      "outputs": [
        {
          "output_type": "stream",
          "name": "stdout",
          "text": [
            "t\n",
            "i\n",
            "s\n",
            " \n",
            "a\n"
          ]
        }
      ]
    },
    {
      "cell_type": "markdown",
      "source": [
        "Question 7.Write a Python Program to check if a string contains any special character?"
      ],
      "metadata": {
        "id": "IHDK2JHMT6O-"
      }
    },
    {
      "cell_type": "code",
      "source": [
        "import re\n",
        "pattern = re.compile(\"[^a-zA-Z0-9 ]+\")\n",
        "s = \"This is $ % sample **\"\n",
        "result = pattern.search(s)\n",
        "if result == None:\n",
        "  print(\"Input string does not contain special characters\")\n",
        "else:\n",
        "  print(\"Input string contain special characters\")"
      ],
      "metadata": {
        "colab": {
          "base_uri": "https://localhost:8080/"
        },
        "id": "47L8dCoLT73l",
        "outputId": "29d2c4a0-6052-442c-c4fd-3fb31b6b0be0"
      },
      "execution_count": 65,
      "outputs": [
        {
          "output_type": "stream",
          "name": "stdout",
          "text": [
            "Input string contain special characters\n"
          ]
        }
      ]
    }
  ]
}