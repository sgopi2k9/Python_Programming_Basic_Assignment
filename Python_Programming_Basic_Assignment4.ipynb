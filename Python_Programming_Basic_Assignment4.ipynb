{
  "nbformat": 4,
  "nbformat_minor": 0,
  "metadata": {
    "colab": {
      "name": "Python_Programming_Basic_Assignment4.ipynb",
      "provenance": [],
      "collapsed_sections": []
    },
    "kernelspec": {
      "name": "python3",
      "display_name": "Python 3"
    },
    "language_info": {
      "name": "python"
    }
  },
  "cells": [
    {
      "cell_type": "markdown",
      "source": [
        "Question 1.Write a Python Program to Find the Factorial of a Number?"
      ],
      "metadata": {
        "id": "f_W2WW8itNCW"
      }
    },
    {
      "cell_type": "code",
      "source": [
        "def fact(n):\n",
        "  if n == 0:\n",
        "    return 1\n",
        "  return n* fact(n-1)\n",
        "n = int(input(\"Enter a number: \"))\n",
        "print(\"Factorial of number {} is {}\".format(str(n),str(fact(n))))"
      ],
      "metadata": {
        "colab": {
          "base_uri": "https://localhost:8080/"
        },
        "id": "a9obOFUptPR1",
        "outputId": "d53a3699-e884-49e2-c2dc-cab15269ae19"
      },
      "execution_count": 2,
      "outputs": [
        {
          "output_type": "stream",
          "name": "stdout",
          "text": [
            "Enter a number: 5\n",
            "Factorial of number 5 is 120\n"
          ]
        }
      ]
    },
    {
      "cell_type": "markdown",
      "source": [
        "Question 2.Write a Python Program to Display the multiplication Table?"
      ],
      "metadata": {
        "id": "heZdpQiHuRiH"
      }
    },
    {
      "cell_type": "code",
      "source": [
        "num = 0\n",
        "r = 0\n",
        "num = int(input(\"Enter a number to display multiplication table: \"))\n",
        "r = int(input(\"Enter the range till which multiplication table is to be displayed: \"))\n",
        "for i in range(1,r+1):\n",
        "  print(\"{} * {} = {}\".format(str(i),str(num),str(i*num)))"
      ],
      "metadata": {
        "colab": {
          "base_uri": "https://localhost:8080/"
        },
        "id": "28VJkb07uTCi",
        "outputId": "1a64f431-7b41-439c-824f-aedf9750521c"
      },
      "execution_count": 4,
      "outputs": [
        {
          "output_type": "stream",
          "name": "stdout",
          "text": [
            "Enter a number to display multiplication table: 3\n",
            "Enter the range till which multiplication table is to be displayed: 12\n",
            "1 * 3 = 3\n",
            "2 * 3 = 6\n",
            "3 * 3 = 9\n",
            "4 * 3 = 12\n",
            "5 * 3 = 15\n",
            "6 * 3 = 18\n",
            "7 * 3 = 21\n",
            "8 * 3 = 24\n",
            "9 * 3 = 27\n",
            "10 * 3 = 30\n",
            "11 * 3 = 33\n",
            "12 * 3 = 36\n"
          ]
        }
      ]
    },
    {
      "cell_type": "markdown",
      "source": [
        "Question 3.Write a Python Program to Print the Fibonacci sequence?"
      ],
      "metadata": {
        "id": "U0JWUecPvGS5"
      }
    },
    {
      "cell_type": "code",
      "source": [
        "num = 0\n",
        "num = int(input(\"Enter the fibonacci series length: \"))\n",
        "i = 0\n",
        "j = 1\n",
        "print(i)\n",
        "print(j)\n",
        "for k in range(2,num):\n",
        "  c = i+j\n",
        "  print(c)\n",
        "  i = j\n",
        "  j = c"
      ],
      "metadata": {
        "colab": {
          "base_uri": "https://localhost:8080/"
        },
        "id": "pfkvWQnQvW_F",
        "outputId": "6d44fc6e-bdf6-464e-9375-825ba897aff1"
      },
      "execution_count": 11,
      "outputs": [
        {
          "output_type": "stream",
          "name": "stdout",
          "text": [
            "Enter the fibonacci series length: 10\n",
            "0\n",
            "1\n",
            "1\n",
            "2\n",
            "3\n",
            "5\n",
            "8\n",
            "13\n",
            "21\n",
            "34\n"
          ]
        }
      ]
    },
    {
      "cell_type": "markdown",
      "source": [
        "Question 4.Write a Python Program to Check Armstrong Number?"
      ],
      "metadata": {
        "id": "yNoprCXlxp1_"
      }
    },
    {
      "cell_type": "code",
      "source": [
        "n = 0\n",
        "result = 0\n",
        "r = 0\n",
        "n = int(input(\"Enter a number: \"))\n",
        "temp = n\n",
        "l = len(str(n))\n",
        "while(temp!=0):\n",
        "  r = int(temp%10)\n",
        "  result = result+pow(r,l)\n",
        "  temp = int(temp/10)\n",
        "print(result)\n",
        "if result == n:\n",
        "  print(\"Given number is armstrong\")\n",
        "else:\n",
        "  print(\"Not a armstrong number\")\n"
      ],
      "metadata": {
        "colab": {
          "base_uri": "https://localhost:8080/"
        },
        "id": "bnVzNesJxr8I",
        "outputId": "1329154f-e04a-4fe6-ca18-e43038626b65"
      },
      "execution_count": 16,
      "outputs": [
        {
          "output_type": "stream",
          "name": "stdout",
          "text": [
            "Enter a number: 1634\n",
            "1634\n",
            "Given number is armstrong\n"
          ]
        }
      ]
    },
    {
      "cell_type": "markdown",
      "source": [
        "Question 5.Write a Python Program to Find Armstrong Number in an Interval?"
      ],
      "metadata": {
        "id": "utYI1Ok8zWlU"
      }
    },
    {
      "cell_type": "code",
      "source": [
        "start = int(input(\"Enter start interval: \"))\n",
        "end = int(input(\"Enter end interval: \"))\n",
        "r = 0\n",
        "temp = 0\n",
        "result = 0\n",
        "l = 0\n",
        "for i in range(start,end+1):\n",
        "  result = 0\n",
        "  l = len(str(i))\n",
        "  temp = i\n",
        "  while(temp!=0):\n",
        "    r = int(temp%10)\n",
        "    result = result+pow(r,l)\n",
        "    temp = int(temp/10)\n",
        "  if result == i:\n",
        "    print(i)"
      ],
      "metadata": {
        "colab": {
          "base_uri": "https://localhost:8080/"
        },
        "id": "sMRuMo9uzcSO",
        "outputId": "bc058dd8-9fd3-48b1-ec94-ad05cf2c98eb"
      },
      "execution_count": 19,
      "outputs": [
        {
          "output_type": "stream",
          "name": "stdout",
          "text": [
            "Enter start interval: 100\n",
            "Enter end interval: 200\n",
            "153\n"
          ]
        }
      ]
    },
    {
      "cell_type": "markdown",
      "source": [
        "Question 6.Write a Python Program to Find the Sum of Natural Numbers?"
      ],
      "metadata": {
        "id": "BXpR-Jx80VzC"
      }
    },
    {
      "cell_type": "code",
      "source": [
        "n=0\n",
        "sum = 0\n",
        "i = 0\n",
        "n = int(input(\"Enter the number till sum is to be found: \"))\n",
        "while(i<=n):\n",
        "  sum = sum+i\n",
        "  i = i+1\n",
        "print(\"Sum of {} natural numbers is {}\".format(str(n),str(sum)))"
      ],
      "metadata": {
        "colab": {
          "base_uri": "https://localhost:8080/"
        },
        "id": "IYoQOwmf0XNr",
        "outputId": "455dd55f-0bb8-46fd-e201-650d85bf33b0"
      },
      "execution_count": 22,
      "outputs": [
        {
          "output_type": "stream",
          "name": "stdout",
          "text": [
            "Enter the number till sum is to be found: 10\n",
            "Sum of 10 natural numbers is 55\n"
          ]
        }
      ]
    }
  ]
}