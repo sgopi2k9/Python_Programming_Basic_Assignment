{
  "nbformat": 4,
  "nbformat_minor": 0,
  "metadata": {
    "colab": {
      "name": "Python_Programming_Basic_Assignment12.ipynb",
      "provenance": []
    },
    "kernelspec": {
      "name": "python3",
      "display_name": "Python 3"
    },
    "language_info": {
      "name": "python"
    }
  },
  "cells": [
    {
      "cell_type": "markdown",
      "source": [
        "Question 1.Write a Python program to Extract Unique values dictionary values?"
      ],
      "metadata": {
        "id": "TBZIv8gBnEzN"
      }
    },
    {
      "cell_type": "code",
      "source": [
        "d = {1:1,2:1,3:3,4:1,5:5}\n",
        "s = set(d.values())\n",
        "print(s)"
      ],
      "metadata": {
        "colab": {
          "base_uri": "https://localhost:8080/"
        },
        "id": "qpsZc3bHnHBe",
        "outputId": "37a19f37-291e-405f-ee1f-bac140636792"
      },
      "execution_count": 1,
      "outputs": [
        {
          "output_type": "stream",
          "name": "stdout",
          "text": [
            "{1, 3, 5}\n"
          ]
        }
      ]
    },
    {
      "cell_type": "markdown",
      "source": [
        "Question 2.Write a Python program to find the sum of all items in a dictionary?"
      ],
      "metadata": {
        "id": "IibGQ54EnyQV"
      }
    },
    {
      "cell_type": "code",
      "source": [
        "d = {1:1,2:1,3:3,4:1,5:5}\n",
        "sum = 0\n",
        "for i,j in d.items():\n",
        "  if type(j) == int:\n",
        "    sum = sum+j\n",
        "print(sum) "
      ],
      "metadata": {
        "colab": {
          "base_uri": "https://localhost:8080/"
        },
        "id": "_XlqM5Znnzzi",
        "outputId": "912446ca-2715-4a31-a8ca-5d8fb59c42e3"
      },
      "execution_count": 2,
      "outputs": [
        {
          "output_type": "stream",
          "name": "stdout",
          "text": [
            "11\n"
          ]
        }
      ]
    },
    {
      "cell_type": "markdown",
      "source": [
        "Question 3.Write a Python program to Merging two Dictionaries?"
      ],
      "metadata": {
        "id": "w9vHXo1Jpi8v"
      }
    },
    {
      "cell_type": "code",
      "source": [
        "d1 = {1:1,2:2,3:3}\n",
        "d2 = {4:4,5:5,6:6}\n",
        "d1.update(d2)\n",
        "print(d1)"
      ],
      "metadata": {
        "colab": {
          "base_uri": "https://localhost:8080/"
        },
        "id": "UKZ6xtlsplJ9",
        "outputId": "f2fcd827-8d1e-4aa4-b2b6-ca2ad4eb6244"
      },
      "execution_count": 5,
      "outputs": [
        {
          "output_type": "stream",
          "name": "stdout",
          "text": [
            "{1: 1, 2: 2, 3: 3, 4: 4, 5: 5, 6: 6}\n"
          ]
        }
      ]
    },
    {
      "cell_type": "markdown",
      "source": [
        "Question 4.Write a Python program to convert key-values list to flat dictionary?"
      ],
      "metadata": {
        "id": "sMfFDEC-qTIs"
      }
    },
    {
      "cell_type": "code",
      "source": [
        "key = {1,2,3}\n",
        "values = {1,2,3}\n",
        "d = dict(zip(key,values))\n",
        "print(d)"
      ],
      "metadata": {
        "colab": {
          "base_uri": "https://localhost:8080/"
        },
        "id": "QVaeS4P6qWW6",
        "outputId": "28214f99-c2f2-46b5-93a1-5c4b29540d50"
      },
      "execution_count": 7,
      "outputs": [
        {
          "output_type": "stream",
          "name": "stdout",
          "text": [
            "{1: 1, 2: 2, 3: 3}\n"
          ]
        }
      ]
    },
    {
      "cell_type": "markdown",
      "source": [
        "Question 5.Write a Python program to insertion at the beginning in OrderedDict?"
      ],
      "metadata": {
        "id": "u3M3OJFuuaMk"
      }
    },
    {
      "cell_type": "code",
      "source": [
        "from collections import OrderedDict\n",
        "d1 = {1:1,2:2,3:3}\n",
        "d2 = {4:4}\n",
        "d3 = {}\n",
        "d3 = OrderedDict(list(d2.items())+list(d1.items()))\n",
        "print(d3)\n"
      ],
      "metadata": {
        "colab": {
          "base_uri": "https://localhost:8080/"
        },
        "id": "LnysXpLCud9F",
        "outputId": "dbfdd126-1d13-466d-bca8-218bb29415db"
      },
      "execution_count": 10,
      "outputs": [
        {
          "output_type": "stream",
          "name": "stdout",
          "text": [
            "OrderedDict([(4, 4), (1, 1), (2, 2), (3, 3)])\n"
          ]
        }
      ]
    },
    {
      "cell_type": "markdown",
      "source": [
        "Question 6.Write a Python program to check order of character in string using OrderedDict()?"
      ],
      "metadata": {
        "id": "Zk3bIceax4Ur"
      }
    },
    {
      "cell_type": "code",
      "source": [
        "from collections import OrderedDict \n",
        "s = \"sample string\"\n",
        "p = \"amp\"\n",
        "d = OrderedDict.fromkeys(s,p)\n",
        "ptrlen=0\n",
        "for key,value in d.items(): \n",
        "    if (key == p[ptrlen]): \n",
        "      ptrlen = ptrlen + 1       \n",
        "    if (ptrlen == (len(p))): \n",
        "      print(\"Given string follows order\")\n",
        "      break\n",
        "else:\n",
        "  print(\"Given string does not follow order\")\n",
        "      \n",
        "  "
      ],
      "metadata": {
        "colab": {
          "base_uri": "https://localhost:8080/"
        },
        "id": "a7qebzMTx8PZ",
        "outputId": "15cd7aeb-90ac-4849-b09c-348ae65ca053"
      },
      "execution_count": 23,
      "outputs": [
        {
          "output_type": "stream",
          "name": "stdout",
          "text": [
            "Given string follows order\n"
          ]
        }
      ]
    },
    {
      "cell_type": "markdown",
      "source": [
        "Question 7.Write a Python program to sort Python Dictionaries by Key or Value?"
      ],
      "metadata": {
        "id": "96P9D8Yz0Pf-"
      }
    },
    {
      "cell_type": "code",
      "source": [
        "d = {1:10,5:4,4:5,3:4,10:10}\n",
        "for i in sorted(d.keys()):\n",
        "  print(str(i)+\" \"+str(d[i]))\n",
        "print(\"**************************\")\n",
        "for j in sorted(d.values()):\n",
        "  print(str(j))"
      ],
      "metadata": {
        "colab": {
          "base_uri": "https://localhost:8080/"
        },
        "id": "2uUm68zJ0ROq",
        "outputId": "fea56d08-fb5d-414e-c587-26960bcc4d49"
      },
      "execution_count": 18,
      "outputs": [
        {
          "output_type": "stream",
          "name": "stdout",
          "text": [
            "1 10\n",
            "3 4\n",
            "4 5\n",
            "5 4\n",
            "10 10\n",
            "**************************\n",
            "4\n",
            "4\n",
            "5\n",
            "10\n",
            "10\n"
          ]
        }
      ]
    }
  ]
}