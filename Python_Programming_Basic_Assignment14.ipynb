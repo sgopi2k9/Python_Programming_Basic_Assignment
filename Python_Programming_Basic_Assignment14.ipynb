{
  "nbformat": 4,
  "nbformat_minor": 0,
  "metadata": {
    "colab": {
      "name": "Python_Programming_Basic_Assignment14.ipynb",
      "provenance": [],
      "collapsed_sections": []
    },
    "kernelspec": {
      "name": "python3",
      "display_name": "Python 3"
    },
    "language_info": {
      "name": "python"
    }
  },
  "cells": [
    {
      "cell_type": "markdown",
      "source": [
        "Question 1:\n",
        "Define a class with a generator which can iterate the numbers, which are divisible by\n",
        "7, between a given range 0 and n."
      ],
      "metadata": {
        "id": "Oro8tH1RgAmh"
      }
    },
    {
      "cell_type": "code",
      "source": [
        "class test:\n",
        "  def gen(self,n):\n",
        "    self.n = n\n",
        "    for i in range(self.n):\n",
        "      yield i\n",
        "  \n",
        "  def divBySeven(self,num):\n",
        "    self.num = num\n",
        "    for j in self.gen(self.num):\n",
        "      if j%7 == 0:\n",
        "        print(j)\n",
        "\n",
        "t = test()\n",
        "t.divBySeven(20)\n"
      ],
      "metadata": {
        "colab": {
          "base_uri": "https://localhost:8080/"
        },
        "id": "gnkwRr7ngCyk",
        "outputId": "ca45c1b2-4844-4955-d154-1d8e871fee6e"
      },
      "execution_count": 4,
      "outputs": [
        {
          "output_type": "stream",
          "name": "stdout",
          "text": [
            "0\n",
            "7\n",
            "14\n"
          ]
        }
      ]
    },
    {
      "cell_type": "markdown",
      "source": [
        "Question 2.Write a program to compute the frequency of the words from the input. The output\n",
        "should output after sorting the key alphanumerically.\n",
        "Suppose the following input is supplied to the program:\n",
        "\n",
        "New to Python or choosing between Python 2 and Python 3? Read Python 2 or\n",
        "Python 3.\n",
        "\n",
        "Then, the output should be:\n",
        "\n",
        "2:2\n",
        "\n",
        "3.:1\n",
        "\n",
        "3?:1\n",
        "\n",
        "New:1\n",
        "\n",
        "Python:5\n",
        "\n",
        "Read:1\n",
        "\n",
        "and:1\n",
        "\n",
        "between:1\n",
        "\n",
        "choosing:1\n",
        "\n",
        "or:2\n",
        "\n",
        "to:1"
      ],
      "metadata": {
        "id": "-R0j0mNplI9H"
      }
    },
    {
      "cell_type": "code",
      "source": [
        "s = input(\"Enter the string: \")\n",
        "d = {}\n",
        "s = s.split()\n",
        "s.sort()\n",
        "for i in s:\n",
        "  if i in d.keys():\n",
        "    d[i] = d[i]+1\n",
        "  else:\n",
        "    d[i] = 1\n",
        "print(d)"
      ],
      "metadata": {
        "colab": {
          "base_uri": "https://localhost:8080/"
        },
        "id": "WKSya1BXlUZy",
        "outputId": "8757f4c5-0d65-4128-f8ba-7ba921f9ed6e"
      },
      "execution_count": 8,
      "outputs": [
        {
          "output_type": "stream",
          "name": "stdout",
          "text": [
            "Enter the string: New to Python or choosing between Python 2 and Python 3? Read Python 2 or Python 3\n",
            "{'2': 2, '3': 1, '3?': 1, 'New': 1, 'Python': 5, 'Read': 1, 'and': 1, 'between': 1, 'choosing': 1, 'or': 2, 'to': 1}\n"
          ]
        }
      ]
    },
    {
      "cell_type": "markdown",
      "source": [
        "Question 3:\n",
        "\n",
        "Define a class Person and its two child classes: Male and Female. All classes have a\n",
        "method &quot;getGender&quot; which can print &quot;Male&quot; for Male class and &quot;Female&quot; for Female\n",
        "class."
      ],
      "metadata": {
        "id": "6CnKr8rymoLa"
      }
    },
    {
      "cell_type": "code",
      "source": [
        "class Person:\n",
        "  def getGender(self):\n",
        "    print(\"Person class\")\n",
        "class Male(Person):\n",
        "  def getGender(self):\n",
        "    print(\"Male\")\n",
        "class Female(Person):\n",
        "  def getGender(self):\n",
        "    print(\"Female\")\n",
        "\n",
        "m = Male()\n",
        "f = Female()\n",
        "m.getGender()\n",
        "f.getGender()"
      ],
      "metadata": {
        "colab": {
          "base_uri": "https://localhost:8080/"
        },
        "id": "Sr5rhsOrmtAT",
        "outputId": "248db571-0d16-47b1-f8eb-98ca4d81ab15"
      },
      "execution_count": 12,
      "outputs": [
        {
          "output_type": "stream",
          "name": "stdout",
          "text": [
            "Male\n",
            "Female\n"
          ]
        }
      ]
    },
    {
      "cell_type": "markdown",
      "source": [
        "Question 4:\n",
        "Please write a program to generate all sentences where subject is in [&quot;I&quot;, &quot;You&quot;] and\n",
        "verb is in [&quot;Play&quot;, &quot;Love&quot;] and the object is in [&quot;Hockey&quot;,&quot;Football&quot;]."
      ],
      "metadata": {
        "id": "1-xerYK0nwcz"
      }
    },
    {
      "cell_type": "code",
      "source": [
        "subject = [\"I\", \"You\"]\n",
        "verb  = [\"Play\", \"Love\"] \n",
        "object = [\"Hockey\",\"Football\"]\n",
        "\n",
        "for i in subject:\n",
        "  for j in verb:\n",
        "    for k in object:\n",
        "      print(i+\" \"+j+\" \"+k)\n"
      ],
      "metadata": {
        "colab": {
          "base_uri": "https://localhost:8080/"
        },
        "id": "daBDdORTnxon",
        "outputId": "4dadd027-1daf-44f9-ae17-e29286f0f3ab"
      },
      "execution_count": 13,
      "outputs": [
        {
          "output_type": "stream",
          "name": "stdout",
          "text": [
            "I Play Hockey\n",
            "I Play Football\n",
            "I Love Hockey\n",
            "I Love Football\n",
            "You Play Hockey\n",
            "You Play Football\n",
            "You Love Hockey\n",
            "You Love Football\n"
          ]
        }
      ]
    },
    {
      "cell_type": "markdown",
      "source": [
        "Question 5:\n",
        "Please write a program to compress and decompress the string &quot;hello world!hello\n",
        "world!hello world!hello world!&quot;."
      ],
      "metadata": {
        "id": "CuSscLPkoUXo"
      }
    },
    {
      "cell_type": "code",
      "source": [
        "import gzip\n",
        "s1 = b'hello world!hello world!hello world!hello world!'\n",
        "s1 = gzip.compress(s1)\n",
        "\n",
        "s2 = gzip.decompress(s1)\n",
        "print(s2)"
      ],
      "metadata": {
        "colab": {
          "base_uri": "https://localhost:8080/"
        },
        "id": "llCIjs5koVn8",
        "outputId": "3d903035-30bd-4a70-9f64-bc48ba83964f"
      },
      "execution_count": 16,
      "outputs": [
        {
          "output_type": "stream",
          "name": "stdout",
          "text": [
            "b'hello world!hello world!hello world!hello world!'\n"
          ]
        }
      ]
    },
    {
      "cell_type": "markdown",
      "source": [
        "Question 6:\n",
        "Please write a binary search function which searches an item in a sorted list. The\n",
        "function should return the index of element to be searched in the list."
      ],
      "metadata": {
        "id": "ld1RdYfrpFTD"
      }
    },
    {
      "cell_type": "code",
      "source": [
        "def findValue(numbers,numtofind):\n",
        "  low = 0\n",
        "  high = len(numbers)-1\n",
        "  while low <= high:\n",
        "    middle = low+(high-low)//2\n",
        "    if numbers[middle] == numtofind:\n",
        "      return middle\n",
        "      break\n",
        "    elif numbers[middle]<numtofind:\n",
        "      low = middle+1\n",
        "    else:\n",
        "      high = middle-1\n",
        "  return -1\n",
        "\n",
        "numbers = [1,7,9,54,67]\n",
        "numbers.sort()\n",
        "numtofind = 7\n",
        "res = findValue(numbers,numtofind)\n",
        "if res == -1:\n",
        "  print(\"Given number not found\")\n",
        "else:\n",
        "  print(\"Index of given number is: \"+str(res))"
      ],
      "metadata": {
        "colab": {
          "base_uri": "https://localhost:8080/"
        },
        "id": "xYV8DlqKpGPl",
        "outputId": "6eb532f5-5c0b-4a67-f1e3-d35dc88eafbb"
      },
      "execution_count": 31,
      "outputs": [
        {
          "output_type": "stream",
          "name": "stdout",
          "text": [
            "Index of given number is: 1\n"
          ]
        }
      ]
    }
  ]
}