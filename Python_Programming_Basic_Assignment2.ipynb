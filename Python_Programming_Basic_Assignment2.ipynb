{
  "nbformat": 4,
  "nbformat_minor": 0,
  "metadata": {
    "colab": {
      "name": "Python_Programming_Basic_Assignment2.ipynb",
      "provenance": []
    },
    "kernelspec": {
      "name": "python3",
      "display_name": "Python 3"
    },
    "language_info": {
      "name": "python"
    }
  },
  "cells": [
    {
      "cell_type": "markdown",
      "source": [
        "Question 1.Write a Python program to convert kilometers to miles?"
      ],
      "metadata": {
        "id": "BEHXlhOCQ7UX"
      }
    },
    {
      "cell_type": "code",
      "source": [
        "kilometers = float(input(\"Enter kilometer value: \"))\n",
        "conv_factor = 0.621371\n",
        "miles = kilometers * conv_factor\n",
        "print(\"{} kilometers is equivalent to {} miles\".format(str(kilometers),str(miles)))"
      ],
      "metadata": {
        "colab": {
          "base_uri": "https://localhost:8080/"
        },
        "id": "1oLATzo1Q9FR",
        "outputId": "c6f3787d-43c5-4bdc-d3fa-4e33da1829e7"
      },
      "execution_count": 3,
      "outputs": [
        {
          "output_type": "stream",
          "name": "stdout",
          "text": [
            "Enter kilometer value: 10\n",
            "10.0 kilometers is equivalent to 6.21371 miles\n"
          ]
        }
      ]
    },
    {
      "cell_type": "markdown",
      "source": [
        "Question 2.Write a Python program to convert Celsius to Fahrenheit?"
      ],
      "metadata": {
        "id": "e5V0ru3CR-85"
      }
    },
    {
      "cell_type": "code",
      "source": [
        "celsius = float(input(\"Enter temperature in celsius: \"))\n",
        "faren = ((9.0/5.0)*celsius)+32\n",
        "print(\"{} celsius is equivalent to {} farenheit\".format(str(celsius),str(faren)))"
      ],
      "metadata": {
        "colab": {
          "base_uri": "https://localhost:8080/"
        },
        "id": "m_J08zIbSCYr",
        "outputId": "3e0c9337-61f8-48b8-af60-2ede0389352b"
      },
      "execution_count": 5,
      "outputs": [
        {
          "output_type": "stream",
          "name": "stdout",
          "text": [
            "Enter temperature in celsius: 25\n",
            "25.0 celsius is equivalent to 77.0 farenheit\n"
          ]
        }
      ]
    },
    {
      "cell_type": "markdown",
      "source": [
        "Question 3.Write a Python program to display calendar?"
      ],
      "metadata": {
        "id": "MlZU-HJPS55e"
      }
    },
    {
      "cell_type": "code",
      "source": [
        "import calendar\n",
        "year = int(input(\"Enter a year: \"))\n",
        "month = int(input(\"Enter a month: \"))\n",
        "if year<1:\n",
        "  print(\"Entered year is not valid\")\n",
        "elif month not in range(1,13):\n",
        "  print(\"Entered month is not valid\")\n",
        "else:\n",
        "  print(calendar.month(year,month))"
      ],
      "metadata": {
        "colab": {
          "base_uri": "https://localhost:8080/"
        },
        "id": "Vbe4tTyWS9vk",
        "outputId": "6bf82706-b388-41a8-d393-2d4625b787c9"
      },
      "execution_count": 10,
      "outputs": [
        {
          "output_type": "stream",
          "name": "stdout",
          "text": [
            "Enter a year: 2021\n",
            "Enter a month: 1\n",
            "    January 2021\n",
            "Mo Tu We Th Fr Sa Su\n",
            "             1  2  3\n",
            " 4  5  6  7  8  9 10\n",
            "11 12 13 14 15 16 17\n",
            "18 19 20 21 22 23 24\n",
            "25 26 27 28 29 30 31\n",
            "\n"
          ]
        }
      ]
    },
    {
      "cell_type": "markdown",
      "source": [
        "Question 4.Write a Python program to solve quadratic equation?"
      ],
      "metadata": {
        "id": "Klho2V-hUTxu"
      }
    },
    {
      "cell_type": "code",
      "source": [
        "import cmath\n",
        "print(\"ax2+bx+c\")\n",
        "a = int(input(\"Enter coefficient of a: \"))\n",
        "b = int(input(\"Enter coefficient of b: \"))\n",
        "c = int(input(\"Enter coefficient of c: \"))\n",
        "if a==0:\n",
        "  print(\"Invalid quadratic equation\")\n",
        "else:\n",
        "  dis = b*b-4*a*c\n",
        "  root1 = (-b-cmath.sqrt(dis))/(2 * a)\n",
        "  root2 = (+b-cmath.sqrt(dis))/(2 * a)\n",
        "  print(\"The results are :{},{}\".format(str(root1),str(root2)))"
      ],
      "metadata": {
        "colab": {
          "base_uri": "https://localhost:8080/"
        },
        "id": "lWvqkHCcUV85",
        "outputId": "a2e8ec3e-7fdd-42e7-e90f-2e45a9b3c6c5"
      },
      "execution_count": 15,
      "outputs": [
        {
          "output_type": "stream",
          "name": "stdout",
          "text": [
            "ax2+bx+c\n",
            "Enter coefficient of a: 1\n",
            "Enter coefficient of b: 4\n",
            "Enter coefficient of c: 2\n",
            "The results are :(-3.414213562373095+0j),(0.5857864376269049+0j)\n"
          ]
        }
      ]
    },
    {
      "cell_type": "markdown",
      "source": [
        "Question 5.Write a Python program to swap two variables without temp variable?"
      ],
      "metadata": {
        "id": "w96tdkcGWmYa"
      }
    },
    {
      "cell_type": "code",
      "source": [
        "firstNum = -10\n",
        "secondNum = -20\n",
        "firstNum = firstNum+secondNum\n",
        "secondNum = firstNum-secondNum\n",
        "firstNum = firstNum-secondNum\n",
        "print(\"firstNum:\"+str(firstNum))\n",
        "print(\"secondNum:\"+str(secondNum))"
      ],
      "metadata": {
        "colab": {
          "base_uri": "https://localhost:8080/"
        },
        "id": "xFXiNaHUWotR",
        "outputId": "3ba26015-2f5a-447f-c772-c89b926fed5e"
      },
      "execution_count": 19,
      "outputs": [
        {
          "output_type": "stream",
          "name": "stdout",
          "text": [
            "firstNum:-20\n",
            "secondNum:-10\n"
          ]
        }
      ]
    }
  ]
}