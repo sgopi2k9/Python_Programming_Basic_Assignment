{
  "nbformat": 4,
  "nbformat_minor": 0,
  "metadata": {
    "colab": {
      "name": "Python_Programming_Basic_Assignment18.ipynb",
      "provenance": [],
      "collapsed_sections": []
    },
    "kernelspec": {
      "name": "python3",
      "display_name": "Python 3"
    },
    "language_info": {
      "name": "python"
    }
  },
  "cells": [
    {
      "cell_type": "markdown",
      "source": [
        "Question 1\n",
        "Create a function that takes a list of non-negative integers and strings and return a new list\n",
        "without the strings.\n",
        "\n",
        "Examples\n",
        "\n",
        "filter_list([1, 2, &quot;a&quot;, &quot;b&quot;]) ➞ [1, 2]\n",
        "\n",
        "filter_list([1, &quot;a&quot;, &quot;b&quot;, 0, 15]) ➞ [1, 0, 15]\n",
        "\n",
        "filter_list([1, 2, &quot;aasf&quot;, &quot;1&quot;, &quot;123&quot;, 123]) ➞ [1, 2, 123]"
      ],
      "metadata": {
        "id": "BXXziupVWd_m"
      }
    },
    {
      "cell_type": "code",
      "source": [
        "def filter_list(l1):\n",
        "  l2 = [i for i in l1 if type(i)==int]\n",
        "  return l2\n",
        "\n",
        "print(filter_list([1,2,'a','b'])) \n",
        "print(filter_list([1,'a','b',0,15]))\n",
        "print(filter_list([1,2,'aasf','1','123',123]))"
      ],
      "metadata": {
        "colab": {
          "base_uri": "https://localhost:8080/"
        },
        "id": "8rY2iXQzWgNE",
        "outputId": "77d56584-a5ff-4c6c-e8be-ae8e81eadb40"
      },
      "execution_count": 9,
      "outputs": [
        {
          "output_type": "stream",
          "name": "stdout",
          "text": [
            "[1, 2]\n",
            "[1, 0, 15]\n",
            "[1, 2, 123]\n"
          ]
        }
      ]
    },
    {
      "cell_type": "markdown",
      "source": [
        "Question 2\n",
        "The &quot;Reverser&quot; takes a string as input and returns that string in reverse order, with the\n",
        "opposite case.\n",
        "\n",
        "Examples\n",
        "\n",
        "reverse(&quot;Hello World&quot;) ➞ &quot;DLROw OLLEh&quot;\n",
        "\n",
        "reverse(&quot;ReVeRsE&quot;) ➞ &quot;eSrEvEr&quot;\n",
        "\n",
        "reverse(&quot;Radar&quot;) ➞ &quot;RADAr&quot;"
      ],
      "metadata": {
        "id": "VU3n10NAcR5J"
      }
    },
    {
      "cell_type": "code",
      "source": [
        "def reverser(s):\n",
        "  s = s.swapcase()\n",
        "  return s[::-1]\n",
        "\n",
        "print(reverser(\"Hello World\"))\n",
        "print(reverser(\"ReVeRsE\"))\n",
        "print(reverser(\"Radar\"))"
      ],
      "metadata": {
        "colab": {
          "base_uri": "https://localhost:8080/"
        },
        "id": "msJy7p49crB4",
        "outputId": "dfdaace9-661f-40bd-9310-41f32910db26"
      },
      "execution_count": 10,
      "outputs": [
        {
          "output_type": "stream",
          "name": "stdout",
          "text": [
            "DLROw OLLEh\n",
            "eSrEvEr\n",
            "RADAr\n"
          ]
        }
      ]
    },
    {
      "cell_type": "markdown",
      "source": [
        "Question 3\n",
        "With Python 3, you can assign variables from lists in a much more succinct way. Create\n",
        "variables first, middle and last from the given list using destructuring assignment\n",
        "(check the Resources tab for some examples), where:\n",
        "first ➞ 1\n",
        "middle ➞ [2, 3, 4, 5]\n",
        "last ➞ 6\n",
        "\n",
        "Your task is to unpack the list writeyourcodehere into three variables, being first,\n",
        "middle, and last, with middle being everything in between the first and last element. Then\n",
        "print all three variables."
      ],
      "metadata": {
        "id": "MNdi0Jendlcg"
      }
    },
    {
      "cell_type": "code",
      "source": [
        "def unpack_list(l1):\n",
        "  f = l1[0]\n",
        "  m = l1[1:-1]\n",
        "  l = l1[-1]\n",
        "  return f,m,l\n",
        "\n",
        "a = [1,2,3,4,5,6]\n",
        "first,middle,last = unpack_list(a)\n",
        "print(\"First: \",first)\n",
        "print(\"Middle: \",middle)\n",
        "print(\"Last: \",last)"
      ],
      "metadata": {
        "colab": {
          "base_uri": "https://localhost:8080/"
        },
        "id": "0__XptDwdsOl",
        "outputId": "f0a3186b-536f-4f5b-dcc3-4f1f4d3a0a65"
      },
      "execution_count": 13,
      "outputs": [
        {
          "output_type": "stream",
          "name": "stdout",
          "text": [
            "First:  1\n",
            "Middle:  [2, 3, 4, 5]\n",
            "Last:  6\n"
          ]
        }
      ]
    },
    {
      "cell_type": "markdown",
      "source": [
        "Question 4\n",
        "Write a function that calculates the factorial of a number recursively.\n",
        "\n",
        "Examples\n",
        "factorial(5) ➞ 120\n",
        "factorial(3) ➞ 6\n",
        "factorial(1) ➞ 1\n",
        "factorial(0) ➞ 1"
      ],
      "metadata": {
        "id": "jCYztDCMfSKD"
      }
    },
    {
      "cell_type": "code",
      "source": [
        "def factorial(n):\n",
        "  if n==0 or n==1:\n",
        "    return 1\n",
        "  else:\n",
        "    return n*factorial(n-1)\n",
        "print(factorial(5))\n",
        "print(factorial(3))\n",
        "print(factorial(1))\n",
        "print(factorial(0))"
      ],
      "metadata": {
        "colab": {
          "base_uri": "https://localhost:8080/"
        },
        "id": "4Rk5wzOQfgeg",
        "outputId": "a1326888-786c-48cd-b50f-96c8fe8d2664"
      },
      "execution_count": 14,
      "outputs": [
        {
          "output_type": "stream",
          "name": "stdout",
          "text": [
            "120\n",
            "6\n",
            "1\n",
            "1\n"
          ]
        }
      ]
    },
    {
      "cell_type": "markdown",
      "source": [
        "Question 5\n",
        "Write a function that moves all elements of one type to the end of the list.\n",
        "\n",
        "Examples\n",
        "\n",
        "move_to_end([1, 3, 2, 4, 4, 1], 1) ➞ [3, 2, 4, 4, 1, 1]\n",
        "\n",
        "Move all the 1s to the end of the array.\n",
        "\n",
        "move_to_end([7, 8, 9, 1, 2, 3, 4], 9) ➞ [7, 8, 1, 2, 3, 4, 9]\n",
        "\n",
        "move_to_end([&quot;a&quot;, &quot;a&quot;, &quot;a&quot;, &quot;b&quot;], &quot;a&quot;) ➞ [&quot;b&quot;, &quot;a&quot;, &quot;a&quot;, &quot;a&quot;]"
      ],
      "metadata": {
        "id": "UoLVhTNTgQ1d"
      }
    },
    {
      "cell_type": "code",
      "source": [
        "def move_to_end(l1,e):\n",
        "  c = 0\n",
        "  if e in l1:\n",
        "    for i in l1:\n",
        "      if i == e:\n",
        "        c+=1\n",
        "    l2 = [x for x in l1 if x!=e]\n",
        "    for j in range(0,c):\n",
        "      l2.append(e)\n",
        "    return l2\n",
        "  else:\n",
        "    return 0\n",
        "\n",
        "print(move_to_end([1,3,2,4,4,1],1))  \n",
        "print(move_to_end([7,8,9,1,2,3,4],9))\n",
        "print(move_to_end(['a','a','a','b'],'a'))  \n"
      ],
      "metadata": {
        "colab": {
          "base_uri": "https://localhost:8080/"
        },
        "id": "PKIr8WyqgWi-",
        "outputId": "3a9e00d9-62d8-4836-e703-c198876d0e47"
      },
      "execution_count": 23,
      "outputs": [
        {
          "output_type": "stream",
          "name": "stdout",
          "text": [
            "[3, 2, 4, 4, 1, 1]\n",
            "[7, 8, 1, 2, 3, 4, 9]\n",
            "['b', 'a', 'a', 'a']\n"
          ]
        }
      ]
    }
  ]
}