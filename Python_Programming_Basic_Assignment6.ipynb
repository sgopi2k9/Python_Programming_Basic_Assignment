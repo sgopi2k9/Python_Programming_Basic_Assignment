{
  "nbformat": 4,
  "nbformat_minor": 0,
  "metadata": {
    "colab": {
      "name": "Python_Programming_Basic_Assignment6.ipynb",
      "provenance": [],
      "collapsed_sections": []
    },
    "kernelspec": {
      "name": "python3",
      "display_name": "Python 3"
    },
    "language_info": {
      "name": "python"
    }
  },
  "cells": [
    {
      "cell_type": "markdown",
      "source": [
        "Question 1.Write a Python Program to Display Fibonacci Sequence Using Recursion?"
      ],
      "metadata": {
        "id": "eqRyQZRYqPCM"
      }
    },
    {
      "cell_type": "code",
      "source": [
        "def fibonacii(n):\n",
        "  if n<=1:\n",
        "    return n\n",
        "  else:\n",
        "    return ((fibonacii(n-1)+fibonacii(n-2)))\n",
        "\n",
        "num=0\n",
        "num = int(input(\"Enter number of terms in fibonacci series: \"))\n",
        "if num<=0:\n",
        "  print(\"Please enter a valid number\")\n",
        "else:\n",
        "  for i in range(num):\n",
        "    print(fibonacii(i))"
      ],
      "metadata": {
        "colab": {
          "base_uri": "https://localhost:8080/"
        },
        "id": "ZUMz0Hk3qTEd",
        "outputId": "559f74a6-2a66-4e8f-85f3-5125e534f18d"
      },
      "execution_count": 5,
      "outputs": [
        {
          "output_type": "stream",
          "name": "stdout",
          "text": [
            "Enter number of terms in fibonacci series: 5\n",
            "0\n",
            "1\n",
            "1\n",
            "2\n",
            "3\n"
          ]
        }
      ]
    },
    {
      "cell_type": "markdown",
      "source": [
        "Question 2.Write a Python Program to Find Factorial of Number Using Recursion?"
      ],
      "metadata": {
        "id": "T8-90WYKrYhF"
      }
    },
    {
      "cell_type": "code",
      "source": [
        "def factorial(n):\n",
        "  if n == 1:\n",
        "    return 1\n",
        "  else:\n",
        "    return n*factorial(n-1)\n",
        "\n",
        "num=0\n",
        "num = int(input(\"Enter a number: \"))\n",
        "if num<=0:\n",
        "  print(\"Please enter a valid number\")\n",
        "else:\n",
        "    print(factorial(num))"
      ],
      "metadata": {
        "colab": {
          "base_uri": "https://localhost:8080/"
        },
        "id": "nIk7ekq-raKP",
        "outputId": "06c45511-d906-4d82-ce11-28fc080f0f6a"
      },
      "execution_count": 9,
      "outputs": [
        {
          "output_type": "stream",
          "name": "stdout",
          "text": [
            "Enter a number: 6\n",
            "720\n"
          ]
        }
      ]
    },
    {
      "cell_type": "markdown",
      "source": [
        "Question 3.Write a Python Program to calculate your Body Mass Index?"
      ],
      "metadata": {
        "id": "BS6NUft2sAeJ"
      }
    },
    {
      "cell_type": "code",
      "source": [
        "h=0\n",
        "w=0\n",
        "h = float(input(\"Enter height in meters: \"))\n",
        "w = float(input(\"Enter weight in kilograms: \"))\n",
        "if h==0 or w==0:\n",
        "  print(\"Invalid input\")\n",
        "else:\n",
        "  bmi = w/(h*h)\n",
        "  print(\"Your Body Mass Index is :\"+str(bmi))"
      ],
      "metadata": {
        "colab": {
          "base_uri": "https://localhost:8080/"
        },
        "id": "vjc--HGUsDIp",
        "outputId": "ee3307d2-75f7-42de-cbde-364c3a10aea7"
      },
      "execution_count": 12,
      "outputs": [
        {
          "output_type": "stream",
          "name": "stdout",
          "text": [
            "Enter height in meters: 1.79\n",
            "Enter weight in kilograms: 70\n",
            "Your Body Mass Index is :21.847008520333322\n"
          ]
        }
      ]
    },
    {
      "cell_type": "markdown",
      "source": [
        "Question 4:Write a Python Program to calculate the natural logarithm of any number?"
      ],
      "metadata": {
        "id": "5Gsi9i4HtC1J"
      }
    },
    {
      "cell_type": "code",
      "source": [
        "import math\n",
        "num = 0\n",
        "num = int(input(\"Enter a number: \"))\n",
        "if num<=0:\n",
        "  print(\"Invalid input\")\n",
        "else:\n",
        "  l = math.log(num)\n",
        "  print(\"Natural log of given number is: \"+str(l))"
      ],
      "metadata": {
        "colab": {
          "base_uri": "https://localhost:8080/"
        },
        "id": "JSMiIXW5tHuw",
        "outputId": "0838e8dd-5a4d-4aae-9163-fb3d16c45b77"
      },
      "execution_count": 23,
      "outputs": [
        {
          "output_type": "stream",
          "name": "stdout",
          "text": [
            "Enter a number: 14\n",
            "Natural log of given number is: 2.6390573296152584\n"
          ]
        }
      ]
    },
    {
      "cell_type": "markdown",
      "source": [
        "Question 5.Write a Python Program for cube sum of first n natural numbers?"
      ],
      "metadata": {
        "id": "0tfeoeacuT9_"
      }
    },
    {
      "cell_type": "code",
      "source": [
        "num = 0\n",
        "sum = 0\n",
        "num = int(input(\"Enter number of natural numbers till which sum of cube is to be found: \"))\n",
        "if num<=0:\n",
        "  print(\"Invalid input\")\n",
        "else:\n",
        "  for i in range(1,num+1):\n",
        "    sum = sum+i*i*i\n",
        "print(\"Sum of cube of first {} natural numbers is {} \".format(str(num),str(sum)))"
      ],
      "metadata": {
        "colab": {
          "base_uri": "https://localhost:8080/"
        },
        "id": "a1ClWo55uxpY",
        "outputId": "b00551b2-4fa7-469c-e664-b69617dc5043"
      },
      "execution_count": 24,
      "outputs": [
        {
          "output_type": "stream",
          "name": "stdout",
          "text": [
            "Enter number of natural numbers till which sum of cube is to be found: 5\n",
            "Sum of cube of first 5 natural numbers is 225 \n"
          ]
        }
      ]
    }
  ]
}