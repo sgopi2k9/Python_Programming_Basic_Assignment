{
  "nbformat": 4,
  "nbformat_minor": 0,
  "metadata": {
    "colab": {
      "name": "Python_Programming_Basic_Assignment19.ipynb",
      "provenance": [],
      "collapsed_sections": []
    },
    "kernelspec": {
      "name": "python3",
      "display_name": "Python 3"
    },
    "language_info": {
      "name": "python"
    }
  },
  "cells": [
    {
      "cell_type": "markdown",
      "source": [
        "Question1\n",
        "Create a function that takes a string and returns a string in which each character is repeated\n",
        "once.\n",
        "\n",
        "Examples\n",
        "\n",
        "double_char(&quot;String&quot;) ➞ &quot;SSttrriinngg&quot;\n",
        "\n",
        "double_char(&quot;Hello World!&quot;) ➞ &quot;HHeelllloo WWoorrlldd!!&quot;\n",
        "\n",
        "double_char(&quot;1234!_ &quot;) ➞ &quot;11223344!!__ &quot;"
      ],
      "metadata": {
        "id": "RyJgMwMtsRX9"
      }
    },
    {
      "cell_type": "code",
      "source": [
        "def double_char(s):\n",
        "  s1 = ''\n",
        "  for i in s:\n",
        "    s1 = s1+i+i\n",
        "  return s1\n",
        "\n",
        "print(double_char(\"String\"))\n",
        "print(double_char(\"Hello World!\"))\n",
        "print(double_char(\"1234!_\"))"
      ],
      "metadata": {
        "colab": {
          "base_uri": "https://localhost:8080/"
        },
        "id": "R8SkFp8msVUk",
        "outputId": "4bc2dd8e-a20d-4fe3-f53e-9522d40fd130"
      },
      "execution_count": 2,
      "outputs": [
        {
          "output_type": "stream",
          "name": "stdout",
          "text": [
            "SSttrriinngg\n",
            "HHeelllloo  WWoorrlldd!!\n",
            "11223344!!__\n"
          ]
        }
      ]
    },
    {
      "cell_type": "markdown",
      "source": [
        "Question2\n",
        "Create a function that reverses a boolean value and returns the string &quot;boolean expected&quot;\n",
        "if another variable type is given.\n",
        "\n",
        "Examples\n",
        "\n",
        "reverse(True) ➞ False\n",
        "\n",
        "reverse(False) ➞ True\n",
        "\n",
        "reverse(0) ➞ &quot;boolean expected&quot;\n",
        "\n",
        "reverse(None) ➞ &quot;boolean expected&quot;"
      ],
      "metadata": {
        "id": "wUmIlOPzsykr"
      }
    },
    {
      "cell_type": "code",
      "source": [
        "def reversed(n):\n",
        "  if type(n) == bool:\n",
        "    return not n\n",
        "  else:\n",
        "    return \"boolean expected\"\n",
        "\n",
        "print(reversed(True))\n",
        "print(reversed(False))\n",
        "print(reversed(0))\n",
        "print(reversed(None))"
      ],
      "metadata": {
        "colab": {
          "base_uri": "https://localhost:8080/"
        },
        "id": "7HhsEbOVs3Rn",
        "outputId": "232a0ad2-4c9f-4437-8eee-5b2af1a42945"
      },
      "execution_count": 3,
      "outputs": [
        {
          "output_type": "stream",
          "name": "stdout",
          "text": [
            "False\n",
            "True\n",
            "boolean expected\n",
            "boolean expected\n"
          ]
        }
      ]
    },
    {
      "cell_type": "markdown",
      "source": [
        "Question3\n",
        "Create a function that returns the thickness (in meters) of a piece of paper after folding it n\n",
        "number of times. The paper starts off with a thickness of 0.5mm.\n",
        "\n",
        "Examples\n",
        "\n",
        "num_layers(1) ➞ &quot;0.001m&quot;\n",
        "\n",
        "Paper folded once is 1mm (equal to 0.001m)\n",
        "\n",
        "num_layers(4) ➞ &quot;0.008m&quot;\n",
        "\n",
        "Paper folded 4 times is 8mm (equal to 0.008m)\n",
        "\n",
        "num_layers(21) ➞ &quot;1048.576m&quot;\n",
        "\n",
        "Paper folded 21 times is 1048576mm (equal to 1048.576m)"
      ],
      "metadata": {
        "id": "q_v-I3NRtS_x"
      }
    },
    {
      "cell_type": "code",
      "source": [
        "def num_layers(n):\n",
        "  return ((2)**(n-1)/1000)\n",
        "\n",
        "n = int(input(\"Enter number of times paper folded: \"))\n",
        "if n<0:\n",
        "  print(\"Invalid value\")\n",
        "else:\n",
        "  print(\"Paper folder {} times is {}m\".format(str(n),str(num_layers(n))))\n"
      ],
      "metadata": {
        "colab": {
          "base_uri": "https://localhost:8080/"
        },
        "id": "wtWRbYPRtZ_s",
        "outputId": "2a9c87d9-21d9-4821-c6a5-cf4a25ec22a1"
      },
      "execution_count": 21,
      "outputs": [
        {
          "output_type": "stream",
          "name": "stdout",
          "text": [
            "Enter number of times paper folded: 21\n",
            "Paper folder 21 times is 1048.576m\n"
          ]
        }
      ]
    },
    {
      "cell_type": "markdown",
      "source": [
        "Question4\n",
        "\n",
        "Create a function that takes a single string as argument and returns an ordered list containing\n",
        "the indices of all capital letters in the string.\n",
        "\n",
        "Examples\n",
        "\n",
        "index_of_caps(&quot;eDaBiT&quot;) ➞ [1, 3, 5]\n",
        "\n",
        "index_of_caps(&quot;eQuINoX&quot;) ➞ [1, 3, 4, 6]\n",
        "\n",
        "index_of_caps(&quot;determine&quot;) ➞ []\n",
        "\n",
        "index_of_caps(&quot;STRIKE&quot;) ➞ [0, 1, 2, 3, 4, 5]\n",
        "\n",
        "index_of_caps(&quot;sUn&quot;) ➞ [1]"
      ],
      "metadata": {
        "id": "qH_0gnCx1xH4"
      }
    },
    {
      "cell_type": "code",
      "source": [
        "def index_of_caps(s):\n",
        "  l1=[]\n",
        "  for i in range(0,len(s)):\n",
        "    if s[i].isupper():\n",
        "      l1.append(i)\n",
        "  return l1\n",
        "\n",
        "\n",
        "print(\"eDaBiT\",index_of_caps(\"eDaBiT\"))\n",
        "print(\"eQuINoX\",index_of_caps(\"eQuINoX\"))\n",
        "print(\"determine\",index_of_caps(\"determine\"))\n",
        "print(\"STRIKE\",index_of_caps(\"STRIKE\"))\n",
        "print(\"sUn\",index_of_caps(\"sUn\"))\n"
      ],
      "metadata": {
        "colab": {
          "base_uri": "https://localhost:8080/"
        },
        "id": "xmmPiZpZ1zcc",
        "outputId": "3cd8e6b8-97e5-4ecd-a062-24de9e85bd24"
      },
      "execution_count": 28,
      "outputs": [
        {
          "output_type": "stream",
          "name": "stdout",
          "text": [
            "eDaBiT [1, 3, 5]\n",
            "eQuINoX [1, 3, 4, 6]\n",
            "determine []\n",
            "STRIKE [0, 1, 2, 3, 4, 5]\n",
            "sUn [1]\n"
          ]
        }
      ]
    },
    {
      "cell_type": "markdown",
      "source": [
        "Question5\n",
        "Using list comprehensions, create a function that finds all even numbers from 1 to the given\n",
        "number.\n",
        "\n",
        "Examples\n",
        "\n",
        "find_even_nums(8) ➞ [2, 4, 6, 8]\n",
        "\n",
        "find_even_nums(4) ➞ [2, 4]\n",
        "find_even_nums(2) ➞ [2]"
      ],
      "metadata": {
        "id": "2zjlsItB3F_b"
      }
    },
    {
      "cell_type": "code",
      "source": [
        "def find_even_nums(n):\n",
        "  l1=[]\n",
        "  l1=[x for x in range(2,n+2) if x%2==0]\n",
        "  return l1\n",
        "\n",
        "print(find_even_nums(8))\n",
        "print(find_even_nums(4))\n",
        "print(find_even_nums(2))"
      ],
      "metadata": {
        "colab": {
          "base_uri": "https://localhost:8080/"
        },
        "id": "5uatKo-q3JU5",
        "outputId": "4f4cd01b-a986-4140-e069-049e97c9f6a7"
      },
      "execution_count": 30,
      "outputs": [
        {
          "output_type": "stream",
          "name": "stdout",
          "text": [
            "[2, 4, 6, 8]\n",
            "[2, 4]\n",
            "[2]\n"
          ]
        }
      ]
    }
  ]
}