{
  "nbformat": 4,
  "nbformat_minor": 0,
  "metadata": {
    "colab": {
      "name": "Python_Programming_Basic_Assignment1.ipynb",
      "provenance": []
    },
    "kernelspec": {
      "name": "python3",
      "display_name": "Python 3"
    },
    "language_info": {
      "name": "python"
    }
  },
  "cells": [
    {
      "cell_type": "markdown",
      "source": [
        "Question 1.Write a Python program to print &quot;Hello Python&quot;?"
      ],
      "metadata": {
        "id": "cVBPJPbyNU6u"
      }
    },
    {
      "cell_type": "code",
      "source": [
        "print(\"Hello Python\")"
      ],
      "metadata": {
        "colab": {
          "base_uri": "https://localhost:8080/"
        },
        "id": "blbpO5XlNVUj",
        "outputId": "2410d7e8-fdc7-4ede-d0dc-fbd01c0fff54"
      },
      "execution_count": 1,
      "outputs": [
        {
          "output_type": "stream",
          "name": "stdout",
          "text": [
            "Hello Python\n"
          ]
        }
      ]
    },
    {
      "cell_type": "markdown",
      "source": [
        "Question 2.Write a Python program to do arithmetical operations addition and division.?"
      ],
      "metadata": {
        "id": "tRir9J3rNfdn"
      }
    },
    {
      "cell_type": "code",
      "source": [
        "firstNumber = int(input(\"Enter first number:\" ))\n",
        "secondNumber = int(input(\"Enter second number:\"))\n",
        "print(\"Addition result:{}\".format(str(firstNumber+secondNumber)))\n",
        "print(\"Division result:{}\".format(str(firstNumber/secondNumber)))"
      ],
      "metadata": {
        "colab": {
          "base_uri": "https://localhost:8080/"
        },
        "id": "pBLMjGmQNozD",
        "outputId": "bc65fa25-2a62-4aba-90eb-f6c97017e9a4"
      },
      "execution_count": 4,
      "outputs": [
        {
          "output_type": "stream",
          "name": "stdout",
          "text": [
            "Enter first number:2\n",
            "Enter second number:3\n",
            "Addition result:5\n",
            "Division result:0.6666666666666666\n"
          ]
        }
      ]
    },
    {
      "cell_type": "markdown",
      "source": [
        "Question 3.Write a Python program to find the area of a triangle?"
      ],
      "metadata": {
        "id": "E36ewrsNOVHC"
      }
    },
    {
      "cell_type": "code",
      "source": [
        "base = float(input(\"Enter base length of the triangle:\"))\n",
        "height = float(input(\"Enter height of the triangle:\"))\n",
        "area = 0.5*base*height\n",
        "print(\"Area of the triangle is :\"+str(area))"
      ],
      "metadata": {
        "colab": {
          "base_uri": "https://localhost:8080/"
        },
        "id": "a8F7OIdNOWzb",
        "outputId": "d578bd1b-7c49-4f55-edd1-c905bf4f63d3"
      },
      "execution_count": 6,
      "outputs": [
        {
          "output_type": "stream",
          "name": "stdout",
          "text": [
            "Enter base length of the triangle:3\n",
            "Enter height of the triangle:5\n",
            "Area of the triangle is :7.5\n"
          ]
        }
      ]
    },
    {
      "cell_type": "markdown",
      "source": [
        "Question 4.Write a Python program to swap two variables?"
      ],
      "metadata": {
        "id": "B5jF4-m7PB0g"
      }
    },
    {
      "cell_type": "code",
      "source": [
        "a = 2\n",
        "b = 3\n",
        "a,b = b,a\n",
        "print(\"a=\"+str(a))\n",
        "print(\"b=\"+str(b))"
      ],
      "metadata": {
        "colab": {
          "base_uri": "https://localhost:8080/"
        },
        "id": "rJsqcxiYPEDU",
        "outputId": "495f3eb1-8828-43c2-9761-3a2563eebfe2"
      },
      "execution_count": 7,
      "outputs": [
        {
          "output_type": "stream",
          "name": "stdout",
          "text": [
            "a=3\n",
            "b=2\n"
          ]
        }
      ]
    },
    {
      "cell_type": "markdown",
      "source": [
        "Question 5.Write a Python program to generate a random number?"
      ],
      "metadata": {
        "id": "S41OG2kdPd3j"
      }
    },
    {
      "cell_type": "code",
      "source": [
        "import random\n",
        "print(random.random())"
      ],
      "metadata": {
        "colab": {
          "base_uri": "https://localhost:8080/"
        },
        "id": "3t0eHMeZPgPl",
        "outputId": "81817204-c5a6-4507-8191-73b997ad94bd"
      },
      "execution_count": 10,
      "outputs": [
        {
          "output_type": "stream",
          "name": "stdout",
          "text": [
            "0.7434421938629118\n"
          ]
        }
      ]
    }
  ]
}