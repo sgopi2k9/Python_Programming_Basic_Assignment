{
  "nbformat": 4,
  "nbformat_minor": 0,
  "metadata": {
    "colab": {
      "name": "Python_Programming_Basic_Assignment23.ipynb",
      "provenance": []
    },
    "kernelspec": {
      "name": "python3",
      "display_name": "Python 3"
    },
    "language_info": {
      "name": "python"
    }
  },
  "cells": [
    {
      "cell_type": "code",
      "execution_count": null,
      "metadata": {
        "id": "BeFcdhlMGncg"
      },
      "outputs": [],
      "source": [
        ""
      ]
    },
    {
      "cell_type": "markdown",
      "source": [
        "Question 1\n",
        "Create a function that takes a number as an argument and returns True or False depending\n",
        "on whether the number is symmetrical or not. A number is symmetrical when it is the same as\n",
        "its reverse.\n",
        "\n",
        "Examples\n",
        "\n",
        "is_symmetrical(7227) ➞ True\n",
        "\n",
        "is_symmetrical(12567) ➞ False\n",
        "\n",
        "is_symmetrical(44444444) ➞ True\n",
        "\n",
        "is_symmetrical(9939) ➞ False\n",
        "\n",
        "is_symmetrical(1112111) ➞ True"
      ],
      "metadata": {
        "id": "2a7dcR83G3gG"
      }
    },
    {
      "cell_type": "code",
      "source": [
        "def is_symmetrical(n):\n",
        "  s1 = str(n)\n",
        "  s2 = s1[::-1]\n",
        "  if s1==s2:\n",
        "    return True\n",
        "  else:\n",
        "    return False\n",
        "\n",
        "print(is_symmetrical(7227))\n",
        "print(is_symmetrical(12567))\n",
        "print(is_symmetrical(44444444))\n",
        "print(is_symmetrical(9939))\n",
        "print(is_symmetrical(1112111))"
      ],
      "metadata": {
        "colab": {
          "base_uri": "https://localhost:8080/"
        },
        "id": "tTsrtHJQG-dj",
        "outputId": "d5823e66-094a-464e-e373-83e9dddf1ac4"
      },
      "execution_count": 1,
      "outputs": [
        {
          "output_type": "stream",
          "name": "stdout",
          "text": [
            "True\n",
            "False\n",
            "True\n",
            "False\n",
            "True\n"
          ]
        }
      ]
    },
    {
      "cell_type": "markdown",
      "source": [
        "Question 2\n",
        "Given a string of numbers separated by a comma and space, return the product of the\n",
        "numbers.\n",
        "\n",
        "Examples\n",
        "\n",
        "multiply_nums(&quot;2, 3&quot;) ➞ 6\n",
        "\n",
        "multiply_nums(&quot;1, 2, 3, 4&quot;) ➞ 24\n",
        "\n",
        "multiply_nums(&quot;54, 75, 453, 0&quot;) ➞ 0\n",
        "\n",
        "multiply_nums(&quot;10, -2&quot;) ➞ -20"
      ],
      "metadata": {
        "id": "o5KSuGzZHiRz"
      }
    },
    {
      "cell_type": "code",
      "source": [
        "def multiply_nums(s):\n",
        "  s = s.split(\", \")\n",
        "  m=1\n",
        "  for i in s:\n",
        "    m = m*int(i)\n",
        "  return m\n",
        "\n",
        "print(multiply_nums(\"2, 3\"))\n",
        "print(multiply_nums(\"1, 2, 3, 4\"))\n",
        "print(multiply_nums(\"54, 75, 453, 0\"))\n",
        "print(multiply_nums(\"10, -2\"))"
      ],
      "metadata": {
        "colab": {
          "base_uri": "https://localhost:8080/"
        },
        "id": "ATjYT1XdHoJn",
        "outputId": "81a46b01-8569-4ade-8466-415d6497212c"
      },
      "execution_count": 4,
      "outputs": [
        {
          "output_type": "stream",
          "name": "stdout",
          "text": [
            "6\n",
            "24\n",
            "0\n",
            "-20\n"
          ]
        }
      ]
    },
    {
      "cell_type": "markdown",
      "source": [
        "Question 3\n",
        "Create a function that squares every digit of a number.\n",
        "\n",
        "Examples\n",
        "\n",
        "square_digits(9119) ➞ 811181\n",
        "\n",
        "square_digits(2483) ➞ 416649\n",
        "\n",
        "square_digits(3212) ➞ 9414\n",
        "\n",
        "Notes\n",
        "\n",
        "The function receives an integer and must return an integer."
      ],
      "metadata": {
        "id": "SIhh8zTiILMm"
      }
    },
    {
      "cell_type": "code",
      "source": [
        "def square_digits(n):\n",
        "  l = list(str(n))\n",
        "  x=''\n",
        "  for i in l:\n",
        "    x = x+str(int(i)*int(i))\n",
        "  return x\n",
        "\n",
        "print(square_digits(9119))\n",
        "print(square_digits(2483))\n",
        "print(square_digits(3212))"
      ],
      "metadata": {
        "colab": {
          "base_uri": "https://localhost:8080/"
        },
        "id": "pccyPij5ISCe",
        "outputId": "0faff27f-2654-4da1-8dde-e79debd064ac"
      },
      "execution_count": 8,
      "outputs": [
        {
          "output_type": "stream",
          "name": "stdout",
          "text": [
            "811181\n",
            "416649\n",
            "9414\n"
          ]
        }
      ]
    },
    {
      "cell_type": "markdown",
      "source": [
        "Question 4\n",
        "Create a function that sorts a list and removes all duplicate items from it.\n",
        "\n",
        "Examples\n",
        "\n",
        "setify([1, 3, 3, 5, 5]) ➞ [1, 3, 5]\n",
        "\n",
        "setify([4, 4, 4, 4]) ➞ [4]\n",
        "\n",
        "setify([5, 7, 8, 9, 10, 15]) ➞ [5, 7, 8, 9, 10, 15]\n",
        "\n",
        "setify([3, 3, 3, 2, 1]) ➞ [1, 2, 3]"
      ],
      "metadata": {
        "id": "Bo0QNouGJOCK"
      }
    },
    {
      "cell_type": "code",
      "source": [
        "def setify(l1):\n",
        "  l1.sort()\n",
        "  l1 = set(l1)\n",
        "  return list(l1)\n",
        "\n",
        "print(setify([1, 3, 3, 5, 5]))\n",
        "print(setify([4, 4, 4, 4]))\n",
        "print(setify([5, 7, 8, 9, 10, 15]))\n",
        "print(setify([3, 3, 3, 2, 1]))"
      ],
      "metadata": {
        "colab": {
          "base_uri": "https://localhost:8080/"
        },
        "id": "6i_jKafhJX2N",
        "outputId": "ead73c09-f232-4545-a18a-1835041f1318"
      },
      "execution_count": 10,
      "outputs": [
        {
          "output_type": "stream",
          "name": "stdout",
          "text": [
            "[1, 3, 5]\n",
            "[4]\n",
            "[5, 7, 8, 9, 10, 15]\n",
            "[1, 2, 3]\n"
          ]
        }
      ]
    },
    {
      "cell_type": "markdown",
      "source": [
        "Question 5\n",
        "Create a function that returns the mean of all digits.\n",
        "\n",
        "Examples\n",
        "\n",
        "mean(42) ➞ 3\n",
        "\n",
        "mean(12345) ➞ 3\n",
        "\n",
        "mean(666) ➞ 6\n",
        "\n",
        "Notes\n",
        " The mean of all digits is the sum of digits / how many digits there are (e.g. mean of digits in\n",
        "512 is (5+1+2)/3(number of digits) = 8/3=2).\n",
        "\n",
        " The mean will always be an integer."
      ],
      "metadata": {
        "id": "DoQtFen1JvGR"
      }
    },
    {
      "cell_type": "code",
      "source": [
        "def mean(n):\n",
        "  l = len(str(n))\n",
        "  s=0\n",
        "  while(n!=0):\n",
        "    s = s+int(n%10)\n",
        "    n = n/10\n",
        "  return int(s/l)\n",
        "print(mean(42))\n",
        "print(mean(12345))\n",
        "print(mean(666))"
      ],
      "metadata": {
        "colab": {
          "base_uri": "https://localhost:8080/"
        },
        "id": "VkKs0dG8J3zY",
        "outputId": "40ccaac3-d126-4436-cf00-60e1588a2bbf"
      },
      "execution_count": 12,
      "outputs": [
        {
          "output_type": "stream",
          "name": "stdout",
          "text": [
            "3\n",
            "3\n",
            "6\n"
          ]
        }
      ]
    }
  ]
}