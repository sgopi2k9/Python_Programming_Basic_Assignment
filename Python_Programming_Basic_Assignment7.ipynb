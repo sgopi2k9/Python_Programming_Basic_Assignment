{
  "nbformat": 4,
  "nbformat_minor": 0,
  "metadata": {
    "colab": {
      "name": "Python_Programming_Basic_Assignment7.ipynb",
      "provenance": [],
      "collapsed_sections": []
    },
    "kernelspec": {
      "name": "python3",
      "display_name": "Python 3"
    },
    "language_info": {
      "name": "python"
    }
  },
  "cells": [
    {
      "cell_type": "markdown",
      "source": [
        "Question 1.Write a Python Program to find sum of array?"
      ],
      "metadata": {
        "id": "2It-cpoqxE0G"
      }
    },
    {
      "cell_type": "code",
      "source": [
        "a=[1,2,3,4,5]\n",
        "sum=0\n",
        "for i in a:\n",
        "  sum = sum+i\n",
        "print(\"Sum of numbers is: \"+str(sum))"
      ],
      "metadata": {
        "colab": {
          "base_uri": "https://localhost:8080/"
        },
        "id": "Sawgo0BHxIt_",
        "outputId": "1dd312ff-5af7-47dd-eaca-1a6f8e5fcbfb"
      },
      "execution_count": 1,
      "outputs": [
        {
          "output_type": "stream",
          "name": "stdout",
          "text": [
            "Sum of numbers is: 15\n"
          ]
        }
      ]
    },
    {
      "cell_type": "markdown",
      "source": [
        "Question 2.Write a Python Program to find largest element in an array?"
      ],
      "metadata": {
        "id": "ymGZiB_fxYn_"
      }
    },
    {
      "cell_type": "code",
      "source": [
        "b=[10,15,11,12,16,16]\n",
        "max = 0\n",
        "i=0\n",
        "j=0\n",
        "for i in range(len(b)):\n",
        "  j = i+1\n",
        "  for j in range(len(b)):\n",
        "    if b[i]<b[j]:\n",
        "      b[i],b[j] = b[j],b[i]\n",
        "max = b[len(b)-1]\n",
        "print(max)"
      ],
      "metadata": {
        "colab": {
          "base_uri": "https://localhost:8080/"
        },
        "id": "gG4xYWZaxaSn",
        "outputId": "9f62cf26-b686-427e-ba68-ad9ea84b4da4"
      },
      "execution_count": 24,
      "outputs": [
        {
          "output_type": "stream",
          "name": "stdout",
          "text": [
            "16\n"
          ]
        }
      ]
    },
    {
      "cell_type": "markdown",
      "source": [
        "Question 3.Write a Python Program for array rotation?"
      ],
      "metadata": {
        "id": "zFW3NKviywYI"
      }
    },
    {
      "cell_type": "code",
      "source": [
        "l1 = [1,4,5,6,7,8,8,5]\n",
        "l2=[]\n",
        "no_elements_to_rotate = 3\n",
        "length = len(l1)\n",
        "l2=l1[no_elements_to_rotate:length]+l1[0:no_elements_to_rotate]\n",
        "print(l2)"
      ],
      "metadata": {
        "colab": {
          "base_uri": "https://localhost:8080/"
        },
        "id": "NPDvVmTgy0BX",
        "outputId": "5ca647e9-cc60-4e74-c9c0-108f842cc5f6"
      },
      "execution_count": 13,
      "outputs": [
        {
          "output_type": "stream",
          "name": "stdout",
          "text": [
            "[6, 7, 8, 8, 5, 1, 4, 5]\n"
          ]
        }
      ]
    },
    {
      "cell_type": "markdown",
      "source": [
        "Question 4.Write a Python Program to Split the array and add the first part to the end?"
      ],
      "metadata": {
        "id": "xArNHW_s1_9F"
      }
    },
    {
      "cell_type": "code",
      "source": [
        "l1 = [1,4,5,6,7,8,8,5]\n",
        "l2=[]\n",
        "no_elements_to_split = 2\n",
        "length = len(l1)\n",
        "l2=l1[no_elements_to_split:length]+l1[0:no_elements_to_split]\n",
        "print(l2)"
      ],
      "metadata": {
        "colab": {
          "base_uri": "https://localhost:8080/"
        },
        "id": "QlQPVVk62CIS",
        "outputId": "73f84d1c-e46a-4f80-e05c-1698a07927f8"
      },
      "execution_count": 14,
      "outputs": [
        {
          "output_type": "stream",
          "name": "stdout",
          "text": [
            "[5, 6, 7, 8, 8, 5, 1, 4]\n"
          ]
        }
      ]
    },
    {
      "cell_type": "markdown",
      "source": [
        "Question 5.Write a Python Program to check if given array is Monotonic?"
      ],
      "metadata": {
        "id": "8HGjhwaB2XI0"
      }
    },
    {
      "cell_type": "code",
      "source": [
        "a = [1,2,3]\n",
        "f = all(a[i]>=a[i+1] for i in range(len(a)-1)) or all(a[i]<=a[i+1] for i in range(len(a)-1)) \n",
        "if f:\n",
        "  print(\"Given array is Monotonic\")\n",
        "else:\n",
        "  print(\"Given array is non monotonic\")"
      ],
      "metadata": {
        "colab": {
          "base_uri": "https://localhost:8080/"
        },
        "id": "mhJKiAi92ZJV",
        "outputId": "28f9f43c-f003-4622-fc38-bc44b7b61e47"
      },
      "execution_count": 32,
      "outputs": [
        {
          "output_type": "stream",
          "name": "stdout",
          "text": [
            "Given array is Monotonic\n"
          ]
        }
      ]
    }
  ]
}