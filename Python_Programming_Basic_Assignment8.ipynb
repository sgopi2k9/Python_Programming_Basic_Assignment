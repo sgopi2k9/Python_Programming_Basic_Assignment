{
  "nbformat": 4,
  "nbformat_minor": 0,
  "metadata": {
    "colab": {
      "name": "Python_Programming_Basic_Assignment8.ipynb",
      "provenance": []
    },
    "kernelspec": {
      "name": "python3",
      "display_name": "Python 3"
    },
    "language_info": {
      "name": "python"
    }
  },
  "cells": [
    {
      "cell_type": "markdown",
      "source": [
        "Question 1.Write a Python Program to Add Two Matrices?"
      ],
      "metadata": {
        "id": "2hXREPvnMFtO"
      }
    },
    {
      "cell_type": "code",
      "source": [
        "a = [[1,2,3],\n",
        "     [4,5,6],\n",
        "     [7,8,9]]\n",
        "\n",
        "b = [[9,8,7],\n",
        "     [6,5,4],\n",
        "     [3,2,1]]\n",
        "\n",
        "sum = [[0,0,0],\n",
        "       [0,0,0],\n",
        "       [0,0,0]]\n",
        "\n",
        "i=0\n",
        "j=0\n",
        "for i in range(len(a)):\n",
        "  for j in range(len(a[i])):\n",
        "    sum[i][j] = a[i][j]+b[i][j]\n",
        "\n",
        "print(sum)"
      ],
      "metadata": {
        "colab": {
          "base_uri": "https://localhost:8080/"
        },
        "id": "6TyHTpRpMHMr",
        "outputId": "6927de47-f969-4bb7-adfa-3e63965614ca"
      },
      "execution_count": 3,
      "outputs": [
        {
          "output_type": "stream",
          "name": "stdout",
          "text": [
            "[[10, 10, 10], [10, 10, 10], [10, 10, 10]]\n"
          ]
        }
      ]
    },
    {
      "cell_type": "markdown",
      "source": [
        "Question 2.Write a Python Program to Multiply Two Matrices?"
      ],
      "metadata": {
        "id": "ed1mi0CsOW3Y"
      }
    },
    {
      "cell_type": "code",
      "source": [
        "a = [[1,2,3],\n",
        "     [4,5,6],\n",
        "     [7,8,9]]\n",
        "\n",
        "b = [[1,2,3],\n",
        "     [4,5,6],\n",
        "     [7,8,9]]\n",
        "\n",
        "product = [[0,0,0],\n",
        "       [0,0,0],\n",
        "       [0,0,0]]\n",
        "\n",
        "i=0\n",
        "j=0\n",
        "k=0\n",
        "for i in range(len(a)):\n",
        "  for j in range(len(b[i])):\n",
        "    for k in range(len(b)):\n",
        "      product[i][j] += a[i][k]*b[k][j]\n",
        "\n",
        "print(product)"
      ],
      "metadata": {
        "colab": {
          "base_uri": "https://localhost:8080/"
        },
        "id": "jnANwDpIOay-",
        "outputId": "06926e21-3152-4b02-85f0-f8b879b92de2"
      },
      "execution_count": 14,
      "outputs": [
        {
          "output_type": "stream",
          "name": "stdout",
          "text": [
            "[[30, 36, 42], [66, 81, 96], [102, 126, 150]]\n"
          ]
        }
      ]
    },
    {
      "cell_type": "markdown",
      "source": [
        "Question 3.Write a Python Program to Transpose a Matrix?"
      ],
      "metadata": {
        "id": "NpNuT4FNSwkg"
      }
    },
    {
      "cell_type": "code",
      "source": [
        "a = [[1,2,3],\n",
        "     [4,5,6],\n",
        "     [7,8,9]]\n",
        "\n",
        "transpose = [[0,0,0],\n",
        "       [0,0,0],\n",
        "       [0,0,0]]\n",
        "\n",
        "for i in range(len(a)):\n",
        "  for j in range(len(a[i])):\n",
        "    transpose[i][j] = a[j][i]\n",
        "print(transpose)"
      ],
      "metadata": {
        "colab": {
          "base_uri": "https://localhost:8080/"
        },
        "id": "x4UFK04VSyPK",
        "outputId": "389c1b95-ab09-44d3-ca96-48b04b76bd0b"
      },
      "execution_count": 15,
      "outputs": [
        {
          "output_type": "stream",
          "name": "stdout",
          "text": [
            "[[1, 4, 7], [2, 5, 8], [3, 6, 9]]\n"
          ]
        }
      ]
    },
    {
      "cell_type": "markdown",
      "source": [
        "Question 4.Write a Python Program to Sort Words in Alphabetic Order?"
      ],
      "metadata": {
        "id": "2uSA4U_3TKgf"
      }
    },
    {
      "cell_type": "code",
      "source": [
        "s = \"This is a sample string\"\n",
        "ls = s.lower().split(\" \")\n",
        "ls.sort()\n",
        "print(\" \".join(ls))"
      ],
      "metadata": {
        "colab": {
          "base_uri": "https://localhost:8080/"
        },
        "id": "0SJYSzzhTMJl",
        "outputId": "720550bc-aee9-4c39-e23d-19f9906a080d"
      },
      "execution_count": 24,
      "outputs": [
        {
          "output_type": "stream",
          "name": "stdout",
          "text": [
            "a is sample string this\n"
          ]
        }
      ]
    },
    {
      "cell_type": "markdown",
      "source": [
        "Question 5.Write a Python Program to Remove Punctuation From a String?"
      ],
      "metadata": {
        "id": "FNTPfTVyUWbs"
      }
    },
    {
      "cell_type": "code",
      "source": [
        "s = \"This is . a sample... string\"\n",
        "s = s.replace(\".\",\"\")\n",
        "print(s)"
      ],
      "metadata": {
        "colab": {
          "base_uri": "https://localhost:8080/"
        },
        "id": "SIYvMa8AUYEA",
        "outputId": "50b92e70-8994-4123-ee10-3f02fd4fa242"
      },
      "execution_count": 28,
      "outputs": [
        {
          "output_type": "stream",
          "name": "stdout",
          "text": [
            "This is  a sample string\n"
          ]
        }
      ]
    }
  ]
}