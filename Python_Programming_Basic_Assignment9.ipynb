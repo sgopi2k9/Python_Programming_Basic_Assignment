{
  "nbformat": 4,
  "nbformat_minor": 0,
  "metadata": {
    "colab": {
      "name": "Python_Programming_Basic_Assignment9.ipynb",
      "provenance": [],
      "collapsed_sections": []
    },
    "kernelspec": {
      "name": "python3",
      "display_name": "Python 3"
    },
    "language_info": {
      "name": "python"
    }
  },
  "cells": [
    {
      "cell_type": "markdown",
      "source": [
        "Question 1.Write a Python program to check if the given number is a Disarium Number?"
      ],
      "metadata": {
        "id": "-GiEUWr0Wgst"
      }
    },
    {
      "cell_type": "code",
      "source": [
        "num = int(input(\"Enter a number: \"))\n",
        "sum = 0\n",
        "r = 0\n",
        "temp = num\n",
        "t = str(temp)\n",
        "l = len(t)\n",
        "if num<=0:\n",
        "  print(\"Invalid number\")\n",
        "else:\n",
        "  while(temp!=0):\n",
        "    r = temp%10\n",
        "    sum = sum +pow(r,l)\n",
        "    temp = int(temp/10)\n",
        "    l= l-1\n",
        "if sum == num:\n",
        "  print(\"Given number is Disarium number\")\n",
        "else:\n",
        "  print(\"Given number is not Disarium number\")"
      ],
      "metadata": {
        "colab": {
          "base_uri": "https://localhost:8080/"
        },
        "id": "GFP7RU5KWjyW",
        "outputId": "3908d919-83b7-4b4a-e150-faf043825ff6"
      },
      "execution_count": 13,
      "outputs": [
        {
          "output_type": "stream",
          "name": "stdout",
          "text": [
            "Enter a number: 175\n",
            "Given number is Disarium number\n"
          ]
        }
      ]
    },
    {
      "cell_type": "markdown",
      "source": [
        "Question 2.Write a Python program to print all disarium numbers between 1 to 100?"
      ],
      "metadata": {
        "id": "ns0FYe3gd45h"
      }
    },
    {
      "cell_type": "code",
      "source": [
        "temp=0\n",
        "r=0\n",
        "l=0\n",
        "\n",
        "for i in range(1,101):\n",
        "  sum = 0\n",
        "  temp=i\n",
        "  l = len(str(i))\n",
        "  while(temp!=0):\n",
        "    r = temp%10\n",
        "    sum = sum +pow(r,l)\n",
        "    temp = int(temp/10)\n",
        "    l= l-1\n",
        "  if sum == i:\n",
        "    print(i)"
      ],
      "metadata": {
        "colab": {
          "base_uri": "https://localhost:8080/"
        },
        "id": "7D27aB-zd8HR",
        "outputId": "a5ec3e87-bbcf-495e-fe44-fc1aa060cfe4"
      },
      "execution_count": 15,
      "outputs": [
        {
          "output_type": "stream",
          "name": "stdout",
          "text": [
            "1\n",
            "2\n",
            "3\n",
            "4\n",
            "5\n",
            "6\n",
            "7\n",
            "8\n",
            "9\n",
            "89\n"
          ]
        }
      ]
    },
    {
      "cell_type": "markdown",
      "source": [
        "Question 3.Write a Python program to check if the given number is Happy Number?"
      ],
      "metadata": {
        "id": "KDnSh3OyexJ6"
      }
    },
    {
      "cell_type": "code",
      "source": [
        "def findSquareSum(n):\n",
        "  temp = n\n",
        "  sum = 0\n",
        "  while(temp!=0):\n",
        "    sum = sum + pow((temp%10),2)\n",
        "    temp = int(temp/10)\n",
        "  return sum\n",
        "\n",
        "num = 0\n",
        "s=set()\n",
        "num = int(input(\"Enter a number: \"))\n",
        "if num<=0:\n",
        "  print(\"Invalid number\")\n",
        "else:\n",
        "  while(1):\n",
        "    num = findSquareSum(num)\n",
        "    if num == 1:\n",
        "      print(\"Given number is Happy number\")\n",
        "      break\n",
        "    if num in s:\n",
        "      print(\"Given number is not a happy number\")\n",
        "      break\n",
        "    s.add(num)"
      ],
      "metadata": {
        "colab": {
          "base_uri": "https://localhost:8080/"
        },
        "id": "xzETizqJe0cT",
        "outputId": "7b35afb3-3013-4e24-9eea-ea9b01f70f07"
      },
      "execution_count": 22,
      "outputs": [
        {
          "output_type": "stream",
          "name": "stdout",
          "text": [
            "Enter a number: 19\n",
            "Given number is Happy number\n"
          ]
        }
      ]
    },
    {
      "cell_type": "markdown",
      "source": [
        "Question 4.Write a Python program to print all happy numbers between 1 and 100?"
      ],
      "metadata": {
        "id": "orlmeOPxkI-v"
      }
    },
    {
      "cell_type": "code",
      "source": [
        "def findSquareSum(n):\n",
        "  temp = n\n",
        "  sum = 0\n",
        "  while(temp!=0):\n",
        "    sum = sum + pow((temp%10),2)\n",
        "    temp = int(temp/10)\n",
        "  return sum\n",
        "\n",
        "for i in range(1,101):\n",
        "  num = i\n",
        "  s=set()\n",
        "  while(1):\n",
        "      num = findSquareSum(num)\n",
        "      if num == 1:\n",
        "        print(i)\n",
        "        break\n",
        "      if num in s:\n",
        "        break\n",
        "      s.add(num)\n"
      ],
      "metadata": {
        "colab": {
          "base_uri": "https://localhost:8080/"
        },
        "id": "GEIu6TgkkONY",
        "outputId": "e08ffa3f-568b-40a0-ed8f-030f6361af13"
      },
      "execution_count": 23,
      "outputs": [
        {
          "output_type": "stream",
          "name": "stdout",
          "text": [
            "1\n",
            "7\n",
            "10\n",
            "13\n",
            "19\n",
            "23\n",
            "28\n",
            "31\n",
            "32\n",
            "44\n",
            "49\n",
            "68\n",
            "70\n",
            "79\n",
            "82\n",
            "86\n",
            "91\n",
            "94\n",
            "97\n",
            "100\n"
          ]
        }
      ]
    },
    {
      "cell_type": "markdown",
      "source": [
        "Question 5.Write a Python program to determine whether the given number is a Harshad Number?"
      ],
      "metadata": {
        "id": "EJVYg8_vk1MQ"
      }
    },
    {
      "cell_type": "code",
      "source": [
        "def checkHarshad(n):\n",
        "  sum = 0\n",
        "  temp = n\n",
        "  while(temp!=0):\n",
        "    sum = sum + temp%10\n",
        "    temp = int(temp/10)\n",
        "  return n%sum == 0\n",
        "\n",
        "num = 0\n",
        "num = int(input(\"Enter a number: \"))\n",
        "if num<=0:\n",
        "  print(\"Invalid number\")\n",
        "else:\n",
        "  if checkHarshad(num):\n",
        "    print(\"Given number is Harshad number\")\n",
        "  else:\n",
        "    print(\"Given number is not a Harshad number\")"
      ],
      "metadata": {
        "colab": {
          "base_uri": "https://localhost:8080/"
        },
        "id": "RBkL_28Bk2zL",
        "outputId": "e974213c-0f69-459f-fe39-f89608017711"
      },
      "execution_count": 25,
      "outputs": [
        {
          "output_type": "stream",
          "name": "stdout",
          "text": [
            "Enter a number: 18\n",
            "Given number is Harshad number\n"
          ]
        }
      ]
    },
    {
      "cell_type": "markdown",
      "source": [
        "Question 6.Write a Python program to print all pronic numbers between 1 and 100?"
      ],
      "metadata": {
        "id": "YzBXHbCwmLrZ"
      }
    },
    {
      "cell_type": "code",
      "source": [
        "for k in range(1,101):\n",
        "  i=1\n",
        "  while (i<=k):\n",
        "    if k == i*(i+1):\n",
        "      print(k)\n",
        "      break\n",
        "    i = i+1"
      ],
      "metadata": {
        "colab": {
          "base_uri": "https://localhost:8080/"
        },
        "id": "ySN9XhcamNLk",
        "outputId": "8a5663f7-72df-406d-afa9-009860d95e50"
      },
      "execution_count": 29,
      "outputs": [
        {
          "output_type": "stream",
          "name": "stdout",
          "text": [
            "2\n",
            "6\n",
            "12\n",
            "20\n",
            "30\n",
            "42\n",
            "56\n",
            "72\n",
            "90\n"
          ]
        }
      ]
    }
  ]
}