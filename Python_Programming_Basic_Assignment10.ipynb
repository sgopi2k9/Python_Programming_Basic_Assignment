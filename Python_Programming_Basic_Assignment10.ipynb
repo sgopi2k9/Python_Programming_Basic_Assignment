{
  "nbformat": 4,
  "nbformat_minor": 0,
  "metadata": {
    "colab": {
      "name": "Python_Programming_Basic_Assignment10.ipynb",
      "provenance": []
    },
    "kernelspec": {
      "name": "python3",
      "display_name": "Python 3"
    },
    "language_info": {
      "name": "python"
    }
  },
  "cells": [
    {
      "cell_type": "code",
      "execution_count": null,
      "metadata": {
        "id": "BzY4An2kouNv"
      },
      "outputs": [],
      "source": [
        ""
      ]
    },
    {
      "cell_type": "markdown",
      "source": [
        "Question 1.Write a Python program to find sum of elements in list?"
      ],
      "metadata": {
        "id": "c5YggagSowd5"
      }
    },
    {
      "cell_type": "code",
      "source": [
        "l1 = [1,2,3,4,5]\n",
        "sum = 0\n",
        "for i in l1:\n",
        "  sum = sum+i\n",
        "print(\"Sum of elements is :\"+str(sum))"
      ],
      "metadata": {
        "colab": {
          "base_uri": "https://localhost:8080/"
        },
        "id": "DCdfZlZAo0uC",
        "outputId": "79d9f646-93c8-4c92-e7ec-2aeff9c8395b"
      },
      "execution_count": 1,
      "outputs": [
        {
          "output_type": "stream",
          "name": "stdout",
          "text": [
            "Sum of elements is :15\n"
          ]
        }
      ]
    },
    {
      "cell_type": "markdown",
      "source": [
        "Question 2.Write a Python program to Multiply all numbers in the list?"
      ],
      "metadata": {
        "id": "EVncbj1RpG4N"
      }
    },
    {
      "cell_type": "code",
      "source": [
        "l2 = [1,2,3,4,5]\n",
        "product = 1\n",
        "for i in l1:\n",
        "  product = product*i\n",
        "print(\"Product of elements is :\"+str(product))"
      ],
      "metadata": {
        "colab": {
          "base_uri": "https://localhost:8080/"
        },
        "id": "w7b1NUOcpITx",
        "outputId": "7617f4ee-7e61-4684-e772-b94d0726bf10"
      },
      "execution_count": 2,
      "outputs": [
        {
          "output_type": "stream",
          "name": "stdout",
          "text": [
            "Product of elements is :120\n"
          ]
        }
      ]
    },
    {
      "cell_type": "markdown",
      "source": [
        "Question 3.Write a Python program to find smallest number in a list?"
      ],
      "metadata": {
        "id": "7w8056SXpU97"
      }
    },
    {
      "cell_type": "code",
      "source": [
        "l3 = [0,15,-1,10,9]\n",
        "minVal = l3[0]\n",
        "i = 0\n",
        "for i in range(0,len(l3)):\n",
        "  if l3[i]<minVal:\n",
        "    minVal = l3[i]\n",
        "print(\"Smallest value is :\"+str(minVal))"
      ],
      "metadata": {
        "colab": {
          "base_uri": "https://localhost:8080/"
        },
        "id": "dYYKpP93pYpn",
        "outputId": "f960848b-ba6e-401a-8692-3b937cc45606"
      },
      "execution_count": 16,
      "outputs": [
        {
          "output_type": "stream",
          "name": "stdout",
          "text": [
            "Smallest value is :-1\n"
          ]
        }
      ]
    },
    {
      "cell_type": "markdown",
      "source": [
        "Question 4.Write a Python program to find largest number in a list?"
      ],
      "metadata": {
        "id": "7sFtaV3EqhmA"
      }
    },
    {
      "cell_type": "code",
      "source": [
        "l4 = [0,15,-1,10,9]\n",
        "maxVal = l4[0]\n",
        "i = 0\n",
        "for i in range(0,len(l4)):\n",
        "  if l4[i]>maxVal:\n",
        "    maxVal = l4[i]\n",
        "print(\"Largest value is :\"+str(maxVal))"
      ],
      "metadata": {
        "colab": {
          "base_uri": "https://localhost:8080/"
        },
        "id": "jMkMtTwyqkWV",
        "outputId": "a411f7d9-aeb0-4a44-fe86-7fe0cd7112cf"
      },
      "execution_count": 17,
      "outputs": [
        {
          "output_type": "stream",
          "name": "stdout",
          "text": [
            "Largest value is :15\n"
          ]
        }
      ]
    },
    {
      "cell_type": "markdown",
      "source": [
        "Question 5:Write a Python program to find second largest number in a list?"
      ],
      "metadata": {
        "id": "fUhsa04aq2W2"
      }
    },
    {
      "cell_type": "code",
      "source": [
        "l5 = [0,15,-1,10,9,15]\n",
        "f = l5[0]\n",
        "s = l5[0]\n",
        "for i in range(0,len(l5)):\n",
        "  if l5[i]>f:\n",
        "    f = l5[i]\n",
        "  elif l5[i]<f and l5[i]>s:\n",
        "    s = l5[i] \n",
        "print(\"Second largest is :\"+str(s))"
      ],
      "metadata": {
        "colab": {
          "base_uri": "https://localhost:8080/"
        },
        "id": "MFwG18ZIq4Xg",
        "outputId": "f0038c33-73d0-4843-f46e-d09cc771bf85"
      },
      "execution_count": 10,
      "outputs": [
        {
          "output_type": "stream",
          "name": "stdout",
          "text": [
            "Second largest is :10\n"
          ]
        }
      ]
    },
    {
      "cell_type": "markdown",
      "source": [
        "Question 6.Write a Python program to find N largest elements from a list?"
      ],
      "metadata": {
        "id": "rP3dmIaHt3Ep"
      }
    },
    {
      "cell_type": "code",
      "source": [
        "l6 = [0,15,-1,10,9,15]\n",
        "n = int(input(\"Enter N th largest number to be found: \"))\n",
        "if n<=0 or n>len(l6):\n",
        "  print(\"Invalid input\")\n",
        "else:\n",
        "  i=1\n",
        "  while(i<=n):\n",
        "    if i == n:\n",
        "      print(max(l6))\n",
        "    else:\n",
        "      l6.remove(max(l6))\n",
        "    i=i+1 "
      ],
      "metadata": {
        "colab": {
          "base_uri": "https://localhost:8080/"
        },
        "id": "YUhrn5bkt4sr",
        "outputId": "fe931f3f-e3db-4852-c1da-1e8b2397db33"
      },
      "execution_count": 26,
      "outputs": [
        {
          "output_type": "stream",
          "name": "stdout",
          "text": [
            "Enter N th largest number to be found: 3\n",
            "10\n"
          ]
        }
      ]
    },
    {
      "cell_type": "markdown",
      "source": [
        "Question 7.Write a Python program to print even numbers in a list?"
      ],
      "metadata": {
        "id": "zF1vUGdszh2A"
      }
    },
    {
      "cell_type": "code",
      "source": [
        "l7 = [0,15,-1,10,9,15]\n",
        "for i in l7:\n",
        "  if i%2 == 0:\n",
        "    print(i)\n"
      ],
      "metadata": {
        "colab": {
          "base_uri": "https://localhost:8080/"
        },
        "id": "ONIjdtmNzmbC",
        "outputId": "2b9fb232-3a18-43f9-eeba-3c59611b7a31"
      },
      "execution_count": 27,
      "outputs": [
        {
          "output_type": "stream",
          "name": "stdout",
          "text": [
            "0\n",
            "10\n"
          ]
        }
      ]
    },
    {
      "cell_type": "markdown",
      "source": [
        "Question 8.Write a Python program to print odd numbers in a List?"
      ],
      "metadata": {
        "id": "IwvEOblgz7Iy"
      }
    },
    {
      "cell_type": "code",
      "source": [
        "l8 = [0,15,-1,10,9,15]\n",
        "for i in l8:\n",
        "  if i%2 != 0:\n",
        "    print(i)"
      ],
      "metadata": {
        "colab": {
          "base_uri": "https://localhost:8080/"
        },
        "id": "PLXvnvcfz9PY",
        "outputId": "45c27b4c-70cb-47cf-cae1-0edeb1af4fb7"
      },
      "execution_count": 28,
      "outputs": [
        {
          "output_type": "stream",
          "name": "stdout",
          "text": [
            "15\n",
            "-1\n",
            "9\n",
            "15\n"
          ]
        }
      ]
    },
    {
      "cell_type": "markdown",
      "source": [
        "Question 9.Write a Python program to Remove empty List from List?"
      ],
      "metadata": {
        "id": "DgK_bUpk0FN9"
      }
    },
    {
      "cell_type": "code",
      "source": [
        "l9 = [[],[1,2],[]]\n",
        "for i in l9:\n",
        "  if len(i) == 0:\n",
        "    l9.remove(i)\n",
        "print(l9)"
      ],
      "metadata": {
        "colab": {
          "base_uri": "https://localhost:8080/"
        },
        "id": "rYP3LJPV0H0y",
        "outputId": "f677c2cf-3cbf-471f-8a7d-62a8d3c0337d"
      },
      "execution_count": 30,
      "outputs": [
        {
          "output_type": "stream",
          "name": "stdout",
          "text": [
            "[[1, 2]]\n"
          ]
        }
      ]
    },
    {
      "cell_type": "markdown",
      "source": [
        "Question 10.Write a Python program to Cloning or Copying a list?"
      ],
      "metadata": {
        "id": "c-iOO4yc1Xbx"
      }
    },
    {
      "cell_type": "code",
      "source": [
        "l10 = [1,2,3,4,5]\n",
        "l11 = list(l10)\n",
        "print(\"Cloned list: \",l11)"
      ],
      "metadata": {
        "colab": {
          "base_uri": "https://localhost:8080/"
        },
        "id": "4Q05B7Wx1Y6f",
        "outputId": "d8810466-02f5-4136-c925-9ecdb856031e"
      },
      "execution_count": 31,
      "outputs": [
        {
          "output_type": "stream",
          "name": "stdout",
          "text": [
            "Cloned list:  [1, 2, 3, 4, 5]\n"
          ]
        }
      ]
    },
    {
      "cell_type": "markdown",
      "source": [
        "Question 11:Write a Python program to Count occurrences of an element in a list?"
      ],
      "metadata": {
        "id": "FSA1DIpk1vpA"
      }
    },
    {
      "cell_type": "code",
      "source": [
        "l12 = [0,15,-1,10,9,15]\n",
        "d = {}\n",
        "for i in l12:\n",
        "  if i not in d.keys():\n",
        "    d[i]=1\n",
        "  else:\n",
        "    d[i]=d[i]+1\n",
        "for j,k in d.items():\n",
        "  print(\"Value = {} , Count = {}\".format(str(j),str(k)))"
      ],
      "metadata": {
        "colab": {
          "base_uri": "https://localhost:8080/"
        },
        "id": "3p-qpNEw1xlY",
        "outputId": "07a793dd-2f23-49f7-be94-17eaacff019e"
      },
      "execution_count": 39,
      "outputs": [
        {
          "output_type": "stream",
          "name": "stdout",
          "text": [
            "Value = 0 , Count = 1\n",
            "Value = 15 , Count = 2\n",
            "Value = -1 , Count = 1\n",
            "Value = 10 , Count = 1\n",
            "Value = 9 , Count = 1\n"
          ]
        }
      ]
    }
  ]
}