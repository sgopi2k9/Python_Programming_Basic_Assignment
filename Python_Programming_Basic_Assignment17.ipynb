{
  "nbformat": 4,
  "nbformat_minor": 0,
  "metadata": {
    "colab": {
      "name": "Python_Programming_Basic_Assignment17.ipynb",
      "provenance": []
    },
    "kernelspec": {
      "name": "python3",
      "display_name": "Python 3"
    },
    "language_info": {
      "name": "python"
    }
  },
  "cells": [
    {
      "cell_type": "markdown",
      "source": [
        "Question1. Create a function that takes three arguments a, b, c and returns the sum of the\n",
        "numbers that are evenly divided by c from the range a, b inclusive.\n",
        "\n",
        "Examples\n",
        "\n",
        "evenly_divisible(1, 10, 20) ➞ 0\n",
        "\n",
        "No number between 1 and 10 can be evenly divided by 20.\n",
        "\n",
        "evenly_divisible(1, 10, 2) ➞ 30\n",
        "\n",
        "2 + 4 + 6 + 8 + 10 = 30\n",
        "\n",
        "evenly_divisible(1, 10, 3) ➞ 18\n",
        "\n",
        "3 + 6 + 9 = 18"
      ],
      "metadata": {
        "id": "n3caCUY4atPs"
      }
    },
    {
      "cell_type": "code",
      "source": [
        "def evenly_divisible(n1,n2,n3):\n",
        "  sum = 0\n",
        "  for i in range(n1,n2+1):\n",
        "    if i%n3==0:\n",
        "      sum = sum+i\n",
        "  return sum\n",
        "\n",
        "n1 = int(input(\"Enter number 1: \"))\n",
        "n2 = int(input(\"Enter number 2: \"))\n",
        "n3 = int(input(\"Enter number 3: \"))\n",
        "if n1==0 or n2==0 or n3==0:\n",
        "  print(\"Invalid input\")\n",
        "else:\n",
        "  print(evenly_divisible(n1,n2,n3))"
      ],
      "metadata": {
        "colab": {
          "base_uri": "https://localhost:8080/"
        },
        "id": "eOydR3d2azoz",
        "outputId": "d6f868c8-82b7-40c2-dc36-f56ce95f1397"
      },
      "execution_count": 12,
      "outputs": [
        {
          "output_type": "stream",
          "name": "stdout",
          "text": [
            "Enter number 1: 1\n",
            "Enter number 2: 10\n",
            "Enter number 3: 2\n",
            "30\n"
          ]
        }
      ]
    },
    {
      "cell_type": "markdown",
      "source": [
        "Question2. Create a function that returns True if a given inequality expression is correct and\n",
        "False otherwise.\n",
        "\n",
        "Examples\n",
        "\n",
        "correct_signs(&quot;3 &lt; 7 &lt; 11&quot;) ➞ True\n",
        "\n",
        "correct_signs(&quot;13 &gt; 44 &gt; 33 &gt; 1&quot;) ➞ False\n",
        "\n",
        "correct_signs(&quot;1 &lt; 2 &lt; 6 &lt; 9 &gt; 3&quot;) ➞ True"
      ],
      "metadata": {
        "id": "rDPOIXPjaL37"
      }
    },
    {
      "cell_type": "code",
      "source": [
        "def correct_signs(s):\n",
        "  return eval(s)\n",
        "\n",
        "print(correct_signs(\"3<4<5\"))"
      ],
      "metadata": {
        "colab": {
          "base_uri": "https://localhost:8080/"
        },
        "id": "9i8lX_bKaNt7",
        "outputId": "5c3b72e1-bce1-4f30-ad59-dbee24c6804b"
      },
      "execution_count": 10,
      "outputs": [
        {
          "output_type": "stream",
          "name": "stdout",
          "text": [
            "True\n"
          ]
        }
      ]
    },
    {
      "cell_type": "markdown",
      "source": [
        "Question3. Create a function that replaces all the vowels in a string with a specified character.\n",
        "Examples\n",
        "\n",
        "replace_vowels(&quot;the aardvark&quot;, &quot;#&quot;) ➞ &quot;th# ##rdv#rk&quot;\n",
        "\n",
        "replace_vowels(&quot;minnie mouse&quot;, &quot;?&quot;) ➞ &quot;m?nn?? m??s?&quot;\n",
        "\n",
        "replace_vowels(&quot;shakespeare&quot;, &quot;*&quot;) ➞ &quot;sh*k*sp**r*&quot;"
      ],
      "metadata": {
        "id": "-L_dV4t5X1Um"
      }
    },
    {
      "cell_type": "code",
      "source": [
        "def replace_vowels(s,c):\n",
        "  r = ['a','e','i','o','u']\n",
        "  for i in s:\n",
        "    if i in r:\n",
        "      s = s.replace(i,c)\n",
        "  return s\n",
        "s = input(\"Enter the string: \")\n",
        "r = input(\"Enter replacement character: \")\n",
        "if s==\" \" or s==\"\":\n",
        "  print(\"Invalid input\")\n",
        "else:\n",
        "  print(\"output is: \"+replace_vowels(s,r))"
      ],
      "metadata": {
        "colab": {
          "base_uri": "https://localhost:8080/"
        },
        "id": "W0-959i6X3qO",
        "outputId": "6e142fe7-9a7a-4685-eeb8-59785af987b2"
      },
      "execution_count": 8,
      "outputs": [
        {
          "output_type": "stream",
          "name": "stdout",
          "text": [
            "Enter the string: minnie mouse\n",
            "Enter replacement character: ?\n",
            "output is: m?nn?? m??s?\n"
          ]
        }
      ]
    },
    {
      "cell_type": "markdown",
      "source": [
        "Question4. Write a function that calculates the factorial of a number recursively.\n",
        "\n",
        "Examples\n",
        "\n",
        "factorial(5) ➞ 120\n",
        "\n",
        "factorial(3) ➞ 6\n",
        "\n",
        "factorial(1) ➞ 1\n",
        "\n",
        "factorial(0) ➞ 1"
      ],
      "metadata": {
        "id": "8T0JqqAJVOed"
      }
    },
    {
      "cell_type": "code",
      "source": [
        "def fact(num):\n",
        "  if num==1 or num==0:\n",
        "    return 1\n",
        "  else:\n",
        "    return num*fact(num-1)\n",
        "\n",
        "num = int(input(\"Enter a number: \"))\n",
        "print(\"Factorial is :\",fact(num))"
      ],
      "metadata": {
        "colab": {
          "base_uri": "https://localhost:8080/"
        },
        "id": "G4ziEXEPVQ_x",
        "outputId": "a0826fc5-dc04-4933-ce8b-1c922afac8c4"
      },
      "execution_count": 2,
      "outputs": [
        {
          "output_type": "stream",
          "name": "stdout",
          "text": [
            "Enter a number: 5\n",
            "Factorial is : 120\n"
          ]
        }
      ]
    },
    {
      "cell_type": "markdown",
      "source": [
        "Question 5\n",
        "Hamming distance is the number of characters that differ between two strings.\n",
        "To illustrate:\n",
        "String1: &quot;abcbba&quot;\n",
        "String2: &quot;abcbda&quot;\n",
        "Hamming Distance: 1 - &quot;b&quot; vs. &quot;d&quot; is the only difference.\n",
        "Create a function that computes the hamming distance between two strings.\n",
        "\n",
        "Examples\n",
        "\n",
        "hamming_distance(&quot;abcde&quot;, &quot;bcdef&quot;) ➞ 5\n",
        "\n",
        "hamming_distance(&quot;abcde&quot;, &quot;abcde&quot;) ➞ 0\n",
        "\n",
        "hamming_distance(&quot;strong&quot;, &quot;strung&quot;) ➞ 1\n"
      ],
      "metadata": {
        "id": "EqtM3hL7WVIq"
      }
    },
    {
      "cell_type": "code",
      "source": [
        "def hamming_distance(s1,s2):\n",
        "  count = 0\n",
        "  for i in range(0,len(s1)):\n",
        "    if s1[i]!=s2[i]:\n",
        "      count+=1\n",
        "  return count\n",
        "s1 = input(\"Enter 1st string: \")\n",
        "s2 = input(\"Enter 2nd string: \")\n",
        "if len(s1)!=len(s2):\n",
        "  print(\"Invalid input\")\n",
        "else:\n",
        "  print(\"Hamming distance: \",hamming_distance(s1,s2)) \n"
      ],
      "metadata": {
        "colab": {
          "base_uri": "https://localhost:8080/"
        },
        "id": "4QSuN-Q3WY12",
        "outputId": "ffa9102a-93ec-40b1-cde8-2f379e1ec690"
      },
      "execution_count": 4,
      "outputs": [
        {
          "output_type": "stream",
          "name": "stdout",
          "text": [
            "Enter 1st string: abcde\n",
            "Enter 2nd string: bcdef\n",
            "Hamming distance:  5\n"
          ]
        }
      ]
    }
  ]
}