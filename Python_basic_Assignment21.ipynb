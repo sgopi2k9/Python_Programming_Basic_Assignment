{
 "cells": [
  {
   "cell_type": "markdown",
   "id": "269d5d2c",
   "metadata": {},
   "source": [
    "1. Add the current date to the text file today.txt as a string."
   ]
  },
  {
   "cell_type": "code",
   "execution_count": 3,
   "id": "0efa8328",
   "metadata": {},
   "outputs": [],
   "source": [
    "import datetime\n",
    "with open(\"today.txt\",\"w\") as f:\n",
    "    f.write(str(datetime.datetime.now()))\n",
    "f.close()"
   ]
  },
  {
   "cell_type": "code",
   "execution_count": 4,
   "id": "b3ed8cc2",
   "metadata": {},
   "outputs": [
    {
     "name": "stdout",
     "output_type": "stream",
     "text": [
      "2022-03-03 14:30:44.786634\n"
     ]
    }
   ],
   "source": [
    "!type today.txt"
   ]
  },
  {
   "cell_type": "markdown",
   "id": "46ccaf08",
   "metadata": {},
   "source": [
    "2. Read the text file today.txt into the string today_string"
   ]
  },
  {
   "cell_type": "code",
   "execution_count": 5,
   "id": "9a3cd657",
   "metadata": {},
   "outputs": [
    {
     "name": "stdout",
     "output_type": "stream",
     "text": [
      "2022-03-03 14:30:44.786634\n"
     ]
    }
   ],
   "source": [
    "with open(\"today.txt\",\"r\") as f:\n",
    "    today_string = f.read()\n",
    "f.close()\n",
    "print(today_string)"
   ]
  },
  {
   "cell_type": "markdown",
   "id": "aa4bb3d7",
   "metadata": {},
   "source": [
    "3. Parse the date from today_string"
   ]
  },
  {
   "cell_type": "code",
   "execution_count": 14,
   "id": "bd62f920",
   "metadata": {},
   "outputs": [
    {
     "name": "stdout",
     "output_type": "stream",
     "text": [
      "2022-03-03 14:30:44.786634\n",
      "<class 'datetime.datetime'>\n"
     ]
    }
   ],
   "source": [
    "from dateutil.parser import parse\n",
    "date_1 = parse(today_string, fuzzy=True)\n",
    "print(date_1)\n",
    "print(type(date_1))"
   ]
  },
  {
   "cell_type": "markdown",
   "id": "6cde474c",
   "metadata": {},
   "source": [
    "4. List the files in your current directory"
   ]
  },
  {
   "cell_type": "code",
   "execution_count": 9,
   "id": "f0fd95ec",
   "metadata": {},
   "outputs": [
    {
     "name": "stdout",
     "output_type": "stream",
     "text": [
      ".bash_history\n",
      ".gitconfig\n",
      ".ipynb_checkpoints\n",
      ".ipython\n",
      ".jupyter\n",
      "2022-02-23 15_43_45.610681_logfile.log\n",
      "3D Objects\n",
      "anaconda3\n",
      "AppData\n",
      "Application Data\n",
      "books.csv\n",
      "books.db\n",
      "carbon_nanotubes.csv\n",
      "Cassandra_class1.ipynb\n",
      "Contacts\n",
      "Cookies\n",
      "Desktop\n",
      "Documents\n",
      "Downloads\n",
      "Favorites\n",
      "jobdb.db\n",
      "json_normalized.csv\n",
      "Links\n",
      "Local Settings\n",
      "Music\n",
      "My Documents\n",
      "NBA.csv\n",
      "NBA1.csv\n",
      "NetHood\n",
      "New Text Document.txt\n",
      "NTUSER.DAT\n",
      "ntuser.dat.LOG1\n",
      "ntuser.dat.LOG2\n",
      "NTUSER.DAT{0608b4b6-0fcf-11ec-986b-744ca177c2cc}.TM.blf\n",
      "NTUSER.DAT{0608b4b6-0fcf-11ec-986b-744ca177c2cc}.TMContainer00000000000000000001.regtrans-ms\n",
      "NTUSER.DAT{0608b4b6-0fcf-11ec-986b-744ca177c2cc}.TMContainer00000000000000000002.regtrans-ms\n",
      "ntuser.ini\n",
      "OneDrive\n",
      "Pandas class1.ipynb\n",
      "Pandas_class2.ipynb\n",
      "persons.db\n",
      "Pictures\n",
      "PrintHood\n",
      "Python_basic_Assignment21.ipynb\n",
      "Recent\n",
      "Saved Games\n",
      "Searches\n",
      "SendTo\n",
      "SQL Lite.ipynb\n",
      "Start Menu\n",
      "Templates\n",
      "test.txt\n",
      "testclass.db\n",
      "today.txt\n",
      "Videos\n",
      "zoo.py\n",
      "__pycache__\n"
     ]
    }
   ],
   "source": [
    "import os\n",
    "for i in os.listdir():\n",
    "    print(i)"
   ]
  },
  {
   "cell_type": "markdown",
   "id": "7a59f98d",
   "metadata": {},
   "source": [
    "5. Create a list of all of the files in your parent directory (minimum five files should be available)."
   ]
  },
  {
   "cell_type": "code",
   "execution_count": 15,
   "id": "c8c885b2",
   "metadata": {},
   "outputs": [
    {
     "name": "stdout",
     "output_type": "stream",
     "text": [
      "['.bash_history', '.gitconfig', '.ipynb_checkpoints', '.ipython', '.jupyter', '2022-02-23 15_43_45.610681_logfile.log', '3D Objects', 'anaconda3', 'AppData', 'Application Data', 'books.csv', 'books.db', 'carbon_nanotubes.csv', 'Cassandra_class1.ipynb', 'Contacts', 'Cookies', 'Desktop', 'Documents', 'Downloads', 'Favorites', 'jobdb.db', 'json_normalized.csv', 'Links', 'Local Settings', 'Music', 'My Documents', 'NBA.csv', 'NBA1.csv', 'NetHood', 'New Text Document.txt', 'NTUSER.DAT', 'ntuser.dat.LOG1', 'ntuser.dat.LOG2', 'NTUSER.DAT{0608b4b6-0fcf-11ec-986b-744ca177c2cc}.TM.blf', 'NTUSER.DAT{0608b4b6-0fcf-11ec-986b-744ca177c2cc}.TMContainer00000000000000000001.regtrans-ms', 'NTUSER.DAT{0608b4b6-0fcf-11ec-986b-744ca177c2cc}.TMContainer00000000000000000002.regtrans-ms', 'ntuser.ini', 'OneDrive', 'Pandas class1.ipynb', 'Pandas_class2.ipynb', 'persons.db', 'Pictures', 'PrintHood', 'Python_basic_Assignment21.ipynb', 'Recent', 'Saved Games', 'Searches', 'SendTo', 'SQL Lite.ipynb', 'Start Menu', 'Templates', 'test.txt', 'testclass.db', 'today.txt', 'Videos', 'zoo.py', '__pycache__']\n"
     ]
    }
   ],
   "source": [
    "l = os.listdir()\n",
    "print(l)"
   ]
  },
  {
   "cell_type": "markdown",
   "id": "60b9d27c",
   "metadata": {},
   "source": [
    "6. Use multiprocessing to create three separate processes. Make each one wait a random number of seconds between one and five, print the current time, and then exit.\n"
   ]
  },
  {
   "cell_type": "code",
   "execution_count": 39,
   "id": "24672801",
   "metadata": {},
   "outputs": [
    {
     "name": "stdout",
     "output_type": "stream",
     "text": [
      "2022-03-03 15:27:14.209700\n",
      "2022-03-03 15:27:14.209700\n",
      "2022-03-03 15:27:14.209700\n"
     ]
    }
   ],
   "source": [
    "from multiprocessing import Process\n",
    "import datetime\n",
    "import time\n",
    "import random\n",
    "def display():\n",
    "   print(str(datetime.datetime.now()))\n",
    "l1 = [1,2,3,4,5]\n",
    "p1 = Process(target=display())\n",
    "p2 = Process(target=display())\n",
    "p3 = Process(target=display())\n",
    "p1.start()\n",
    "time.sleep(random.choice(l1))\n",
    "p2.start()\n",
    "time.sleep(random.choice(l1))\n",
    "p3.start()\n",
    "time.sleep(random.choice(l1))\n",
    "p1.join()\n",
    "p2.join()\n",
    "p3.join()"
   ]
  },
  {
   "cell_type": "markdown",
   "id": "38446f0f",
   "metadata": {},
   "source": [
    "7. Create a date object of your day of birth."
   ]
  },
  {
   "cell_type": "code",
   "execution_count": 16,
   "id": "f077ba84",
   "metadata": {},
   "outputs": [
    {
     "name": "stdout",
     "output_type": "stream",
     "text": [
      "2000-10-02 00:00:00\n"
     ]
    }
   ],
   "source": [
    "import datetime\n",
    "x = datetime.datetime(2000,10,2)\n",
    "print(x)"
   ]
  },
  {
   "cell_type": "markdown",
   "id": "84b487f0",
   "metadata": {},
   "source": [
    "8. What day of the week was your day of birth?"
   ]
  },
  {
   "cell_type": "code",
   "execution_count": 23,
   "id": "17a0971f",
   "metadata": {},
   "outputs": [
    {
     "name": "stdout",
     "output_type": "stream",
     "text": [
      "Monday\n"
     ]
    }
   ],
   "source": [
    "import calendar\n",
    "x = datetime.datetime(2000,10,2).weekday()\n",
    "day = calendar.day_name[x]\n",
    "print(day)"
   ]
  },
  {
   "cell_type": "markdown",
   "id": "7534255c",
   "metadata": {},
   "source": [
    "9. When will you be (or when were you) 10,000 days old?"
   ]
  },
  {
   "cell_type": "code",
   "execution_count": 26,
   "id": "382e7c34",
   "metadata": {},
   "outputs": [
    {
     "name": "stdout",
     "output_type": "stream",
     "text": [
      "2028-02-18 00:00:00\n"
     ]
    }
   ],
   "source": [
    "x = datetime.datetime(2000,10,2)\n",
    "enddate = x + datetime.timedelta(days=10000)\n",
    "print(enddate)"
   ]
  }
 ],
 "metadata": {
  "kernelspec": {
   "display_name": "Python 3 (ipykernel)",
   "language": "python",
   "name": "python3"
  },
  "language_info": {
   "codemirror_mode": {
    "name": "ipython",
    "version": 3
   },
   "file_extension": ".py",
   "mimetype": "text/x-python",
   "name": "python",
   "nbconvert_exporter": "python",
   "pygments_lexer": "ipython3",
   "version": "3.9.7"
  }
 },
 "nbformat": 4,
 "nbformat_minor": 5
}
