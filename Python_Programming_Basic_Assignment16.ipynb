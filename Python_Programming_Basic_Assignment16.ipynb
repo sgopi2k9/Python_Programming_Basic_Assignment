{
  "nbformat": 4,
  "nbformat_minor": 0,
  "metadata": {
    "colab": {
      "name": "Python_Programming_Basic_Assignment16.ipynb",
      "provenance": [],
      "collapsed_sections": []
    },
    "kernelspec": {
      "name": "python3",
      "display_name": "Python 3"
    },
    "language_info": {
      "name": "python"
    }
  },
  "cells": [
    {
      "cell_type": "markdown",
      "source": [
        "Question1. Write a function that stutters a word as if someone is struggling to read it. The\n",
        "first two letters are repeated twice with an ellipsis ... and space after each, and then the\n",
        "word is pronounced with a question mark ?.\n",
        "\n",
        "Examples\n",
        "\n",
        "stutter(&quot;incredible&quot;) ➞ &quot;in... in... incredible?&quot;\n",
        "\n",
        "stutter(&quot;enthusiastic&quot;) ➞ &quot;en... en... enthusiastic?&quot;\n",
        "\n",
        "stutter(&quot;outstanding&quot;) ➞ &quot;ou... ou... outstanding?&quot;\n",
        "\n",
        "Hint :- Assume all input is in lower case and at least two characters long."
      ],
      "metadata": {
        "id": "AIX8vJWMB9pw"
      }
    },
    {
      "cell_type": "code",
      "source": [
        "def stutter(n):\n",
        "  print(n[0]+n[1]+\"... \"+n[0]+n[1]+\"... \"+n+\"?\")\n",
        "\n",
        "n = input(\"Enter a string: \")\n",
        "if len(n)<=2:\n",
        "  print(\"Invalid input\")\n",
        "else:\n",
        "  stutter(n)"
      ],
      "metadata": {
        "colab": {
          "base_uri": "https://localhost:8080/"
        },
        "id": "4v7wYjRECKVT",
        "outputId": "f3f072b9-b964-4a13-8f2c-d077b821e127"
      },
      "execution_count": 5,
      "outputs": [
        {
          "output_type": "stream",
          "name": "stdout",
          "text": [
            "Enter a string: outstanding\n",
            "ou... ou... outstanding?\n"
          ]
        }
      ]
    },
    {
      "cell_type": "markdown",
      "source": [
        "Question 2.Create a function that takes an angle in radians and returns the corresponding\n",
        "angle in degrees rounded to one decimal place.\n",
        "\n",
        "Examples\n",
        "\n",
        "radians_to_degrees(1) ➞ 57.3\n",
        "\n",
        "radians_to_degrees(20) ➞ 1145.9\n",
        "\n",
        "radians_to_degrees(50) ➞ 2864.8"
      ],
      "metadata": {
        "id": "ZZcITkCjDqVr"
      }
    },
    {
      "cell_type": "code",
      "source": [
        "import math\n",
        "def radian_to_degrees(num):\n",
        "  return (num*180)/math.pi\n",
        "\n",
        "num = int(input(\"Enter angle in degrees: \"))\n",
        "print(format(radian_to_degrees(num),\".1f\"))\n",
        "\n"
      ],
      "metadata": {
        "colab": {
          "base_uri": "https://localhost:8080/"
        },
        "id": "yAPCvLCsDsXZ",
        "outputId": "13f5bab9-8a1a-42ec-9f34-911e1a5afd60"
      },
      "execution_count": 14,
      "outputs": [
        {
          "output_type": "stream",
          "name": "stdout",
          "text": [
            "Enter angle in degrees: 20\n",
            "1145.9\n"
          ]
        }
      ]
    },
    {
      "cell_type": "markdown",
      "source": [
        "Question 3. In this challenge, establish if a given integer num is a Curzon number. If 1 plus\n",
        "2 elevated to num is exactly divisible by 1 plus 2 multiplied by num, then num is a Curzon\n",
        "number.\n",
        "Given a non-negative integer num, implement a function that returns True if num is a Curzon\n",
        "number, or False otherwise.\n",
        "\n",
        "Examples\n",
        "\n",
        "is_curzon(5) ➞ True\n",
        "\n",
        "2 ** 5 + 1 = 33\n",
        "\n",
        "2 * 5 + 1 = 11\n",
        "\n",
        "33 is a multiple of 11\n",
        "\n",
        "is_curzon(10) ➞ False\n",
        "\n",
        "2 ** 10 + 1 = 1025\n",
        "\n",
        "2 * 10 + 1 = 21\n",
        "\n",
        "1025 is not a multiple of 21\n",
        "\n",
        "is_curzon(14) ➞ True\n",
        "\n",
        "2 ** 14 + 1 = 16385\n",
        "\n",
        "2 * 14 + 1 = 29\n",
        "\n",
        "16385 is a multiple of 29"
      ],
      "metadata": {
        "id": "2JXfu2nEOvU4"
      }
    },
    {
      "cell_type": "code",
      "source": [
        "def is_curzon(num):\n",
        "  a = 2**num+1\n",
        "  b = 2*num+1\n",
        "  if a%b == 0:\n",
        "    return True\n",
        "  else:\n",
        "    return False\n",
        "\n",
        "num = int(input(\"Enter a number: \"))\n",
        "if num<=0:\n",
        "  print(\"Invalid input\")\n",
        "else:\n",
        "  if is_curzon(num):\n",
        "    print(\"Given number is curzon number\")\n",
        "  else:\n",
        "    print(\"Given number is not a curzon number\")\n"
      ],
      "metadata": {
        "colab": {
          "base_uri": "https://localhost:8080/"
        },
        "id": "VLDomQbBO40r",
        "outputId": "a6fc4377-ed6b-4e4b-b6cf-ead9645af7d2"
      },
      "execution_count": 15,
      "outputs": [
        {
          "output_type": "stream",
          "name": "stdout",
          "text": [
            "Enter a number: 14\n",
            "Given number is curzon number\n"
          ]
        }
      ]
    },
    {
      "cell_type": "markdown",
      "source": [
        "Question 4.Given the side length x find the area of a hexagon.\n",
        "\n",
        "Examples\n",
        "\n",
        "area_of_hexagon(1) ➞ 2.6\n",
        "\n",
        "area_of_hexagon(2) ➞ 10.4\n",
        "\n",
        "area_of_hexagon(3) ➞ 23.4"
      ],
      "metadata": {
        "id": "cQNiYwX3P5fX"
      }
    },
    {
      "cell_type": "code",
      "source": [
        "from math import sqrt\n",
        "def area_of_hexagon(num):\n",
        "  return (3*sqrt(3)*num**2)/2\n",
        "\n",
        "num = int(input(\"Enter the side of hexagon: \"))\n",
        "if num <=0:\n",
        "  print(\"Invalid input\")\n",
        "else:\n",
        "  print(\"Area of hexagon is: \",format(area_of_hexagon(num),\".1f\"))"
      ],
      "metadata": {
        "colab": {
          "base_uri": "https://localhost:8080/"
        },
        "id": "yMhW7WkiP_fg",
        "outputId": "deff8855-6ffd-470e-d649-06bd36543466"
      },
      "execution_count": 16,
      "outputs": [
        {
          "output_type": "stream",
          "name": "stdout",
          "text": [
            "Enter the side of hexagon: 3\n",
            "Area of hexagon is:  23.4\n"
          ]
        }
      ]
    },
    {
      "cell_type": "markdown",
      "source": [
        "Question 5. Create a function that returns a base-2 (binary) representation of a base-10\n",
        "(decimal) string number. To convert is simple: ((2) means base-2 and (10) means base-10)\n",
        "010101001(2) = 1 + 8 + 32 + 128.\n",
        "Going from right to left, the value of the most right bit is 1, now from that every bit to the left\n",
        "will be x2 the value, value of an 8 bit binary numbers are (256, 128, 64, 32, 16, 8, 4, 2, 1).\n",
        "\n",
        "Examples\n",
        "binary(1) ➞ &quot;1&quot;\n",
        "\n",
        "1*1 = 1\n",
        "\n",
        "binary(5) ➞ &quot;101&quot;\n",
        "\n",
        "1*1 + 1*4 = 5\n",
        "\n",
        "binary(10) ➞ &quot;1010&quot;\n",
        "1*2 + 1*8 = 10"
      ],
      "metadata": {
        "id": "I9IIbz0tQ0Tu"
      }
    },
    {
      "cell_type": "code",
      "source": [
        "def binary(num):\n",
        "  s = ''\n",
        "  while(num!=0):\n",
        "    s = s+str(num%2)\n",
        "    num = int(num/2)\n",
        "  return s[::-1]\n",
        "\n",
        "num = int(input(\"Enter a number: \"))\n",
        "if num<0:\n",
        "  print(\"Invalid input\")\n",
        "else:\n",
        "  print(binary(num))"
      ],
      "metadata": {
        "colab": {
          "base_uri": "https://localhost:8080/"
        },
        "id": "rWZL5o9YQ4QD",
        "outputId": "1a933a07-ddc4-4b26-9c63-6921667d5038"
      },
      "execution_count": 19,
      "outputs": [
        {
          "output_type": "stream",
          "name": "stdout",
          "text": [
            "Enter a number: 10\n",
            "1010\n"
          ]
        }
      ]
    }
  ]
}