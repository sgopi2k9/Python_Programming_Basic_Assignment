{
 "cells": [
  {
   "cell_type": "markdown",
   "id": "fe9551bb",
   "metadata": {},
   "source": [
    "1. What is the result of the code, and explain?\n",
    "\n",
    "\n",
    ">>> X = 'iNeuron'\n",
    ">>> def func():\n",
    "print(X)\n",
    "\n",
    "\n",
    ">>> func()\n"
   ]
  },
  {
   "cell_type": "code",
   "execution_count": 1,
   "id": "c96fd7db",
   "metadata": {},
   "outputs": [
    {
     "name": "stdout",
     "output_type": "stream",
     "text": [
      "iNeuron\n"
     ]
    }
   ],
   "source": [
    "X = 'iNeuron'\n",
    "def func():\n",
    "    print(X)\n",
    "func()"
   ]
  },
  {
   "cell_type": "markdown",
   "id": "1d2a720a",
   "metadata": {},
   "source": [
    "X is declared as global scope so it can be accessed with function"
   ]
  },
  {
   "cell_type": "markdown",
   "id": "403c9005",
   "metadata": {},
   "source": [
    "\n",
    "2. What is the result of the code, and explain?\n",
    "\n",
    "\n",
    ">>> X = 'iNeuron'\n",
    ">>> def func():\n",
    "X = 'NI!'\n",
    "\n",
    "\n",
    ">>> func()\n",
    ">>> print(X)\n"
   ]
  },
  {
   "cell_type": "code",
   "execution_count": 3,
   "id": "8a97196e",
   "metadata": {},
   "outputs": [
    {
     "name": "stdout",
     "output_type": "stream",
     "text": [
      "iNeuron\n"
     ]
    }
   ],
   "source": [
    "X = 'iNeuron'\n",
    "def func():\n",
    "    X = 'NI!'\n",
    "func()\n",
    "print(X)"
   ]
  },
  {
   "cell_type": "markdown",
   "id": "18b9e85b",
   "metadata": {},
   "source": [
    "X is declared as global scope so x='NI!' is accessibile only within the function"
   ]
  },
  {
   "cell_type": "markdown",
   "id": "f75a4629",
   "metadata": {},
   "source": [
    "3. What does this code print, and why?\n",
    "\n",
    "\n",
    ">>> X = 'iNeuron'\n",
    ">>> def func():\n",
    "X = 'NI'\n",
    "print(X)\n",
    "\n",
    "\n",
    ">>> func()\n",
    ">>> print(X)\n"
   ]
  },
  {
   "cell_type": "code",
   "execution_count": 4,
   "id": "54cdc3f3",
   "metadata": {},
   "outputs": [
    {
     "name": "stdout",
     "output_type": "stream",
     "text": [
      "NI!\n",
      "iNeuron\n"
     ]
    }
   ],
   "source": [
    "X = 'iNeuron'\n",
    "def func():\n",
    "    X = 'NI!'\n",
    "    print(X)\n",
    "func()\n",
    "print(X)"
   ]
  },
  {
   "cell_type": "markdown",
   "id": "e347aad1",
   "metadata": {},
   "source": [
    "The output of the code is NI. the global keyword allows a variable to be accessible in the current scope. since we are using global keyword inside the function func it directly access the variable in X in global scope. and changes its value to NI. hence the output of the code is NI"
   ]
  },
  {
   "cell_type": "markdown",
   "id": "304f05f9",
   "metadata": {},
   "source": [
    "4. What output does this code produce? Why?\n",
    "\n",
    "\n",
    ">>> X = 'iNeuron'\n",
    ">>> def func():\n",
    "global X\n",
    "X = 'NI'\n",
    "\n",
    "\n",
    ">>> func()\n",
    ">>> print(X)\n"
   ]
  },
  {
   "cell_type": "code",
   "execution_count": 5,
   "id": "1093b55a",
   "metadata": {},
   "outputs": [
    {
     "name": "stdout",
     "output_type": "stream",
     "text": [
      "NI\n"
     ]
    }
   ],
   "source": [
    "X = 'INeuron'\n",
    "def func():\n",
    "    global X\n",
    "    X = 'NI'\n",
    "func()\n",
    "print(X)"
   ]
  },
  {
   "cell_type": "markdown",
   "id": "d46d71d9",
   "metadata": {},
   "source": [
    "Since we changed the scope of the variable in function and X is changed to NI so output is NI"
   ]
  },
  {
   "cell_type": "markdown",
   "id": "ae555b2e",
   "metadata": {},
   "source": [
    "\n",
    "5. What about this code—what’s the output, and why?\n",
    "\n",
    "\n",
    ">>> X = 'iNeuron'\n",
    ">>> def func():\n",
    "X = 'NI'\n",
    "def nested():\n",
    "print(X)\n",
    "nested()\n",
    "\n",
    "\n",
    ">>> func()\n",
    ">>> X\n"
   ]
  },
  {
   "cell_type": "code",
   "execution_count": 6,
   "id": "18b14abb",
   "metadata": {},
   "outputs": [
    {
     "data": {
      "text/plain": [
       "'iNeuron'"
      ]
     },
     "execution_count": 6,
     "metadata": {},
     "output_type": "execute_result"
    }
   ],
   "source": [
    "X = 'iNeuron'\n",
    "def func():\n",
    "    X = 'NI'\n",
    "    def nested():\n",
    "        print(X)\n",
    "        nested()\n",
    "func()\n",
    "X"
   ]
  },
  {
   "cell_type": "markdown",
   "id": "e7525553",
   "metadata": {},
   "source": [
    "\n",
    "6. How about this code: what is its output in Python 3, and explain?\n",
    "\n",
    "\n",
    ">>> def func():\n",
    "X = 'NI'\n",
    "def nested():\n",
    "nonlocal X\n",
    "X = 'Spam'\n",
    "nested()\n",
    "print(X)\n",
    "\n",
    "\n",
    ">>> func()\n",
    "\n",
    "\n"
   ]
  },
  {
   "cell_type": "code",
   "execution_count": 10,
   "id": "483af1e0",
   "metadata": {},
   "outputs": [
    {
     "name": "stdout",
     "output_type": "stream",
     "text": [
      "Spam\n"
     ]
    }
   ],
   "source": [
    "def func():\n",
    "    X = 'NI'\n",
    "    def nested():\n",
    "        nonlocal X\n",
    "        X = 'Spam'\n",
    "    nested()\n",
    "    print(X)\n",
    "func()"
   ]
  },
  {
   "cell_type": "markdown",
   "id": "4b0cb8ea",
   "metadata": {},
   "source": [
    "The output of the code is Spam. nonlocal keyword in python is used to declare a variable as not local.Hence the statement X = \"Spam\" is modified in the global scope. hence the output of print(X) statement is Spam"
   ]
  }
 ],
 "metadata": {
  "kernelspec": {
   "display_name": "Python 3 (ipykernel)",
   "language": "python",
   "name": "python3"
  },
  "language_info": {
   "codemirror_mode": {
    "name": "ipython",
    "version": 3
   },
   "file_extension": ".py",
   "mimetype": "text/x-python",
   "name": "python",
   "nbconvert_exporter": "python",
   "pygments_lexer": "ipython3",
   "version": "3.9.7"
  }
 },
 "nbformat": 4,
 "nbformat_minor": 5
}
